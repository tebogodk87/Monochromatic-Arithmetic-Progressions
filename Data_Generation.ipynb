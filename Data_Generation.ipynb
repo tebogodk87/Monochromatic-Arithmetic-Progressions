{
 "cells": [
  {
   "cell_type": "code",
   "execution_count": 336,
   "id": "c52793c5",
   "metadata": {},
   "outputs": [],
   "source": [
    "import numpy as np\n",
    "import random\n",
    "import pandas as pd\n",
    "import matplotlib.pyplot as plt\n",
    "import itertools\n",
    "from sklearn.linear_model import LinearRegression\n",
    "from sklearn.ensemble import RandomForestRegressor\n",
    "from sklearn.model_selection import train_test_split\n",
    "from sklearn.metrics import mean_squared_error, mean_absolute_error, r2_score\n",
    "from sklearn.neural_network import MLPRegressor"
   ]
  },
  {
   "cell_type": "markdown",
   "id": "eb2fd48a",
   "metadata": {},
   "source": [
    "## Data Generation"
   ]
  },
  {
   "cell_type": "code",
   "execution_count": 337,
   "id": "2d4293e5",
   "metadata": {},
   "outputs": [
    {
     "name": "stdout",
     "output_type": "stream",
     "text": [
      "Sample 1: ['red', 'blue', 'blue', 'red', 'blue', 'red', 'blue', 'red', 'red', 'red', 'blue', 'red', 'red', 'red', 'red', 'red', 'blue', 'red', 'blue', 'blue', 'red', 'blue', 'blue', 'blue', 'blue', 'red', 'red', 'red', 'red', 'red', 'red', 'red', 'red', 'red', 'blue', 'blue', 'blue', 'red', 'blue', 'blue', 'red', 'blue', 'red', 'blue', 'red', 'blue', 'blue', 'red', 'blue', 'red', 'blue', 'blue', 'blue', 'red', 'red', 'blue', 'red', 'blue', 'red', 'red', 'red', 'red', 'blue', 'red', 'blue', 'red', 'blue', 'blue', 'red', 'blue', 'blue', 'red', 'blue', 'red', 'blue', 'blue', 'blue', 'red', 'red', 'blue', 'blue', 'red', 'red', 'blue', 'blue', 'red', 'red', 'blue', 'red', 'red', 'red', 'blue', 'red', 'blue', 'red', 'red', 'blue', 'red', 'blue', 'blue']\n",
      "Sample 2: ['blue', 'blue', 'blue', 'blue', 'red', 'blue', 'red', 'blue', 'red', 'blue', 'red', 'red', 'red', 'red', 'blue', 'blue', 'blue', 'red', 'red', 'blue', 'blue', 'blue', 'red', 'red', 'blue', 'red', 'blue', 'blue', 'blue', 'red', 'blue', 'red', 'blue', 'red', 'blue', 'red', 'red', 'blue', 'red', 'blue', 'blue', 'red', 'red', 'blue', 'blue', 'blue', 'red', 'red', 'blue', 'red', 'red', 'blue', 'blue', 'blue', 'red', 'blue', 'blue', 'blue', 'blue', 'red', 'red', 'blue', 'red', 'blue', 'red', 'blue', 'blue', 'red', 'red', 'blue', 'blue', 'red', 'blue', 'blue', 'red', 'blue', 'blue', 'blue', 'blue', 'blue', 'blue', 'red', 'red', 'red', 'red', 'red', 'blue', 'blue', 'red', 'blue', 'red', 'blue', 'red', 'red', 'blue', 'blue', 'blue', 'blue', 'red', 'red']\n",
      "Sample 3: ['red', 'red', 'blue', 'red', 'blue', 'blue', 'blue', 'blue', 'blue', 'red', 'blue', 'blue', 'blue', 'red', 'red', 'blue', 'red', 'red', 'red', 'red', 'blue', 'blue', 'blue', 'red', 'red', 'blue', 'red', 'blue', 'red', 'red', 'red', 'blue', 'red', 'blue', 'blue', 'red', 'red', 'blue', 'red', 'red', 'blue', 'blue', 'blue', 'blue', 'blue', 'blue', 'red', 'blue', 'blue', 'blue', 'red', 'blue', 'blue', 'blue', 'red', 'blue', 'blue', 'blue', 'blue', 'blue', 'blue', 'red', 'blue', 'blue', 'red', 'blue', 'blue', 'red', 'red', 'blue', 'red', 'red', 'blue', 'red', 'blue', 'blue', 'red', 'blue', 'red', 'red', 'red', 'red', 'blue', 'red', 'red', 'blue', 'red', 'red', 'red', 'blue', 'blue', 'red', 'blue', 'blue', 'blue', 'red', 'red', 'blue', 'red', 'blue']\n",
      "Sample 4: ['red', 'red', 'red', 'blue', 'blue', 'red', 'blue', 'blue', 'red', 'red', 'red', 'red', 'blue', 'red', 'blue', 'red', 'blue', 'blue', 'red', 'red', 'red', 'red', 'blue', 'blue', 'blue', 'red', 'red', 'red', 'blue', 'blue', 'blue', 'blue', 'red', 'red', 'red', 'blue', 'blue', 'red', 'blue', 'blue', 'red', 'red', 'red', 'blue', 'red', 'blue', 'red', 'blue', 'blue', 'red', 'blue', 'red', 'blue', 'blue', 'blue', 'blue', 'red', 'red', 'blue', 'red', 'blue', 'red', 'blue', 'red', 'blue', 'blue', 'red', 'blue', 'blue', 'blue', 'blue', 'blue', 'red', 'blue', 'blue', 'red', 'red', 'red', 'blue', 'red', 'red', 'blue', 'red', 'blue', 'red', 'red', 'blue', 'blue', 'blue', 'red', 'blue', 'blue', 'red', 'red', 'red', 'red', 'red', 'blue', 'blue', 'red']\n",
      "Sample 5: ['red', 'blue', 'blue', 'red', 'blue', 'blue', 'red', 'red', 'blue', 'blue', 'red', 'blue', 'red', 'red', 'red', 'blue', 'red', 'blue', 'blue', 'red', 'blue', 'red', 'blue', 'red', 'red', 'red', 'red', 'red', 'red', 'blue', 'blue', 'blue', 'blue', 'red', 'blue', 'blue', 'red', 'red', 'red', 'blue', 'red', 'red', 'blue', 'red', 'blue', 'red', 'blue', 'red', 'red', 'red', 'blue', 'blue', 'red', 'blue', 'blue', 'blue', 'red', 'red', 'blue', 'blue', 'blue', 'red', 'red', 'red', 'blue', 'blue', 'red', 'red', 'blue', 'blue', 'blue', 'blue', 'red', 'red', 'red', 'red', 'blue', 'blue', 'red', 'red', 'red', 'red', 'red', 'red', 'red', 'blue', 'red', 'red', 'blue', 'blue', 'red', 'red', 'red', 'red', 'red', 'red', 'red', 'red', 'red', 'blue']\n",
      "Sample 6: ['red', 'blue', 'blue', 'red', 'blue', 'red', 'red', 'blue', 'red', 'red', 'red', 'red', 'red', 'red', 'blue', 'red', 'blue', 'red', 'red', 'red', 'red', 'red', 'blue', 'red', 'blue', 'red', 'blue', 'blue', 'blue', 'blue', 'blue', 'blue', 'blue', 'red', 'blue', 'red', 'blue', 'blue', 'red', 'blue', 'red', 'blue', 'blue', 'red', 'blue', 'blue', 'red', 'red', 'blue', 'blue', 'blue', 'blue', 'blue', 'blue', 'red', 'red', 'red', 'blue', 'red', 'blue', 'blue', 'blue', 'red', 'red', 'red', 'red', 'blue', 'red', 'red', 'red', 'red', 'red', 'blue', 'blue', 'blue', 'red', 'red', 'red', 'blue', 'blue', 'red', 'red', 'red', 'red', 'blue', 'red', 'blue', 'red', 'red', 'blue', 'red', 'blue', 'red', 'red', 'red', 'blue', 'red', 'blue', 'blue', 'blue']\n",
      "Sample 7: ['blue', 'red', 'blue', 'red', 'red', 'blue', 'red', 'blue', 'red', 'red', 'red', 'red', 'red', 'blue', 'red', 'red', 'red', 'red', 'red', 'blue', 'red', 'red', 'red', 'red', 'red', 'red', 'blue', 'red', 'blue', 'blue', 'blue', 'red', 'red', 'red', 'blue', 'red', 'blue', 'red', 'red', 'red', 'red', 'blue', 'red', 'blue', 'red', 'red', 'red', 'red', 'blue', 'blue', 'red', 'blue', 'blue', 'red', 'red', 'blue', 'red', 'red', 'blue', 'blue', 'red', 'blue', 'red', 'blue', 'red', 'red', 'red', 'blue', 'blue', 'red', 'red', 'blue', 'red', 'red', 'blue', 'red', 'blue', 'blue', 'red', 'blue', 'blue', 'blue', 'red', 'red', 'red', 'blue', 'blue', 'red', 'blue', 'red', 'red', 'red', 'blue', 'red', 'blue', 'red', 'red', 'red', 'red', 'blue']\n",
      "Sample 8: ['blue', 'blue', 'red', 'red', 'red', 'blue', 'red', 'blue', 'blue', 'red', 'blue', 'blue', 'blue', 'blue', 'blue', 'red', 'red', 'blue', 'blue', 'blue', 'blue', 'red', 'red', 'red', 'blue', 'blue', 'blue', 'blue', 'blue', 'red', 'red', 'red', 'blue', 'red', 'red', 'blue', 'red', 'red', 'blue', 'red', 'blue', 'red', 'red', 'blue', 'blue', 'blue', 'red', 'blue', 'red', 'red', 'blue', 'blue', 'blue', 'blue', 'red', 'blue', 'blue', 'blue', 'blue', 'red', 'blue', 'red', 'blue', 'red', 'blue', 'red', 'red', 'red', 'blue', 'blue', 'red', 'blue', 'blue', 'blue', 'red', 'red', 'blue', 'red', 'blue', 'blue', 'red', 'red', 'red', 'blue', 'blue', 'red', 'red', 'blue', 'blue', 'blue', 'blue', 'blue', 'red', 'red', 'blue', 'blue', 'red', 'blue', 'red', 'red']\n",
      "Sample 9: ['blue', 'blue', 'blue', 'red', 'blue', 'red', 'red', 'red', 'blue', 'red', 'blue', 'red', 'blue', 'blue', 'blue', 'red', 'red', 'red', 'red', 'blue', 'blue', 'blue', 'blue', 'red', 'red', 'red', 'blue', 'red', 'blue', 'blue', 'red', 'red', 'red', 'red', 'blue', 'red', 'blue', 'blue', 'red', 'red', 'blue', 'red', 'blue', 'blue', 'red', 'blue', 'red', 'red', 'blue', 'red', 'red', 'red', 'blue', 'blue', 'blue', 'blue', 'red', 'blue', 'red', 'blue', 'red', 'red', 'blue', 'red', 'blue', 'red', 'red', 'blue', 'blue', 'red', 'blue', 'blue', 'blue', 'red', 'red', 'blue', 'red', 'red', 'blue', 'red', 'blue', 'red', 'blue', 'blue', 'red', 'blue', 'blue', 'blue', 'blue', 'red', 'red', 'blue', 'blue', 'blue', 'blue', 'blue', 'blue', 'blue', 'red', 'blue']\n",
      "Sample 10: ['red', 'blue', 'blue', 'blue', 'red', 'red', 'red', 'red', 'red', 'blue', 'blue', 'blue', 'blue', 'red', 'blue', 'blue', 'red', 'red', 'red', 'blue', 'red', 'blue', 'red', 'red', 'blue', 'red', 'blue', 'blue', 'blue', 'red', 'red', 'red', 'red', 'red', 'blue', 'red', 'red', 'blue', 'blue', 'blue', 'red', 'blue', 'blue', 'red', 'red', 'red', 'blue', 'red', 'red', 'blue', 'red', 'blue', 'red', 'blue', 'blue', 'red', 'blue', 'blue', 'red', 'red', 'red', 'blue', 'blue', 'blue', 'blue', 'blue', 'blue', 'blue', 'red', 'red', 'red', 'blue', 'blue', 'blue', 'red', 'blue', 'red', 'blue', 'red', 'red', 'red', 'red', 'blue', 'red', 'red', 'red', 'blue', 'red', 'blue', 'blue', 'red', 'blue', 'blue', 'blue', 'red', 'blue', 'red', 'red', 'blue', 'red']\n"
     ]
    }
   ],
   "source": [
    "\n",
    "\n",
    "def generate_coloring(N):\n",
    "    \"\"\"Generate a random 2-coloring for integers from 1 to N.\"\"\"\n",
    "    colors = ['blue', 'red']\n",
    "    return [random.choice(colors) for _ in range(N)]\n",
    "\n",
    "def generate_sample_dataset(num_samples, N, batch_size=1000):\n",
    "    \"\"\"Generate a sample dataset of colorings.\"\"\"\n",
    "    dataset = []\n",
    "    batches = num_samples // batch_size\n",
    "    remainder = num_samples % batch_size\n",
    "    for _ in range(batches):\n",
    "        batch = [generate_coloring(N) for _ in range(batch_size)]\n",
    "        dataset.extend(batch)\n",
    "    if remainder:\n",
    "        dataset.extend([generate_coloring(N) for _ in range(remainder)])\n",
    "    return dataset\n",
    "\n",
    "\n",
    "num_samples = 50000\n",
    "N = 100 # Maximum integer value to be colored\n",
    "sample_dataset = generate_sample_dataset(num_samples, N)\n",
    "\n",
    "# first 5 colorings in the dataset\n",
    "for i in range(10):\n",
    "    print(f\"Sample {i + 1}: {sample_dataset[i]}\")"
   ]
  },
  {
   "cell_type": "code",
   "execution_count": null,
   "id": "f1bb7448",
   "metadata": {},
   "outputs": [],
   "source": []
  },
  {
   "cell_type": "markdown",
   "id": "443ca22b",
   "metadata": {},
   "source": [
    "## Fractions of Monochromatic Arithmetic Triples"
   ]
  },
  {
   "cell_type": "code",
   "execution_count": 339,
   "id": "02241825",
   "metadata": {},
   "outputs": [
    {
     "name": "stdout",
     "output_type": "stream",
     "text": [
      "Sample 1: Fraction of monochromatic triplets: 0.24122448979591837\n",
      "Sample 2: Fraction of monochromatic triplets: 0.24816326530612245\n",
      "Sample 3: Fraction of monochromatic triplets: 0.2530612244897959\n",
      "Sample 4: Fraction of monochromatic triplets: 0.24\n",
      "Sample 5: Fraction of monochromatic triplets: 0.2563265306122449\n"
     ]
    }
   ],
   "source": [
    "def monochromatic_triplets_fraction(colors):\n",
    "    \"\"\"Calculate the fraction of monochromatic arithmetic progressions of length 3.\"\"\"\n",
    "    n = len(colors)\n",
    "    monochromatic_ap = 0\n",
    "    total_ap = 0\n",
    "    \n",
    "    # Iterate over all possible triplets (i, j, k) that form an arithmetic progression\n",
    "    for i in range(n):\n",
    "        for j in range(i + 1, n):\n",
    "            diff = j - i\n",
    "            k = j + diff\n",
    "            if k < n:\n",
    "                #print(f\"Indices: ({i}, {j}, {k}) -> Colors: ({colors[i]}, {colors[j]}, {colors[k]})\")\n",
    "                total_ap += 1\n",
    "                if colors[i] == colors[j] == colors[k]:\n",
    "                    monochromatic_ap += 1\n",
    "    \n",
    "    # Calculate the fraction\n",
    "    if total_ap != 0:\n",
    "        fraction_monochromatic_ap = monochromatic_ap / total_ap\n",
    "    else:\n",
    "        fraction_monochromatic_ap = 0\n",
    "    \n",
    "    return fraction_monochromatic_ap\n",
    "\n",
    "# Applying the function on the sample dataset\n",
    "sample_monochromatic_triples_fractions = [monochromatic_triplets_fraction(colors) for colors in sample_dataset]\n",
    "\n",
    "# Print calculated fractions\n",
    "for i in range(5):\n",
    "    print(f\"Sample {i + 1}: Fraction of monochromatic triplets: {sample_monochromatic_triples_fractions[i]}\")\n"
   ]
  },
  {
   "cell_type": "code",
   "execution_count": 340,
   "id": "7df51530",
   "metadata": {},
   "outputs": [],
   "source": [
    "df1 = pd.DataFrame({'sample_monochromatic_triples_fractions':sample_monochromatic_triples_fractions})"
   ]
  },
  {
   "cell_type": "code",
   "execution_count": 341,
   "id": "25b7e16e",
   "metadata": {},
   "outputs": [
    {
     "data": {
      "text/html": [
       "<div>\n",
       "<style scoped>\n",
       "    .dataframe tbody tr th:only-of-type {\n",
       "        vertical-align: middle;\n",
       "    }\n",
       "\n",
       "    .dataframe tbody tr th {\n",
       "        vertical-align: top;\n",
       "    }\n",
       "\n",
       "    .dataframe thead th {\n",
       "        text-align: right;\n",
       "    }\n",
       "</style>\n",
       "<table border=\"1\" class=\"dataframe\">\n",
       "  <thead>\n",
       "    <tr style=\"text-align: right;\">\n",
       "      <th></th>\n",
       "      <th>sample_monochromatic_triples_fractions</th>\n",
       "    </tr>\n",
       "  </thead>\n",
       "  <tbody>\n",
       "    <tr>\n",
       "      <th>0</th>\n",
       "      <td>0.241224</td>\n",
       "    </tr>\n",
       "    <tr>\n",
       "      <th>1</th>\n",
       "      <td>0.248163</td>\n",
       "    </tr>\n",
       "    <tr>\n",
       "      <th>2</th>\n",
       "      <td>0.253061</td>\n",
       "    </tr>\n",
       "    <tr>\n",
       "      <th>3</th>\n",
       "      <td>0.240000</td>\n",
       "    </tr>\n",
       "    <tr>\n",
       "      <th>4</th>\n",
       "      <td>0.256327</td>\n",
       "    </tr>\n",
       "  </tbody>\n",
       "</table>\n",
       "</div>"
      ],
      "text/plain": [
       "   sample_monochromatic_triples_fractions\n",
       "0                                0.241224\n",
       "1                                0.248163\n",
       "2                                0.253061\n",
       "3                                0.240000\n",
       "4                                0.256327"
      ]
     },
     "execution_count": 341,
     "metadata": {},
     "output_type": "execute_result"
    }
   ],
   "source": [
    "df1.head(5)"
   ]
  },
  {
   "cell_type": "code",
   "execution_count": 342,
   "id": "2314965a",
   "metadata": {},
   "outputs": [
    {
     "data": {
      "text/html": [
       "<div>\n",
       "<style scoped>\n",
       "    .dataframe tbody tr th:only-of-type {\n",
       "        vertical-align: middle;\n",
       "    }\n",
       "\n",
       "    .dataframe tbody tr th {\n",
       "        vertical-align: top;\n",
       "    }\n",
       "\n",
       "    .dataframe thead th {\n",
       "        text-align: right;\n",
       "    }\n",
       "</style>\n",
       "<table border=\"1\" class=\"dataframe\">\n",
       "  <thead>\n",
       "    <tr style=\"text-align: right;\">\n",
       "      <th></th>\n",
       "      <th>sample_monochromatic_triples_fractions</th>\n",
       "    </tr>\n",
       "  </thead>\n",
       "  <tbody>\n",
       "    <tr>\n",
       "      <th>count</th>\n",
       "      <td>50000.000000</td>\n",
       "    </tr>\n",
       "    <tr>\n",
       "      <th>mean</th>\n",
       "      <td>0.250115</td>\n",
       "    </tr>\n",
       "    <tr>\n",
       "      <th>std</th>\n",
       "      <td>0.012840</td>\n",
       "    </tr>\n",
       "    <tr>\n",
       "      <th>min</th>\n",
       "      <td>0.228980</td>\n",
       "    </tr>\n",
       "    <tr>\n",
       "      <th>25%</th>\n",
       "      <td>0.241633</td>\n",
       "    </tr>\n",
       "    <tr>\n",
       "      <th>50%</th>\n",
       "      <td>0.246531</td>\n",
       "    </tr>\n",
       "    <tr>\n",
       "      <th>75%</th>\n",
       "      <td>0.255102</td>\n",
       "    </tr>\n",
       "    <tr>\n",
       "      <th>max</th>\n",
       "      <td>0.403265</td>\n",
       "    </tr>\n",
       "  </tbody>\n",
       "</table>\n",
       "</div>"
      ],
      "text/plain": [
       "       sample_monochromatic_triples_fractions\n",
       "count                            50000.000000\n",
       "mean                                 0.250115\n",
       "std                                  0.012840\n",
       "min                                  0.228980\n",
       "25%                                  0.241633\n",
       "50%                                  0.246531\n",
       "75%                                  0.255102\n",
       "max                                  0.403265"
      ]
     },
     "execution_count": 342,
     "metadata": {},
     "output_type": "execute_result"
    }
   ],
   "source": [
    "df1.describe()"
   ]
  },
  {
   "cell_type": "code",
   "execution_count": null,
   "id": "fd6e6738",
   "metadata": {},
   "outputs": [],
   "source": []
  },
  {
   "cell_type": "markdown",
   "id": "fa75eff3",
   "metadata": {},
   "source": [
    "## Fractions of Monochromatic quadruples (4,4)"
   ]
  },
  {
   "cell_type": "code",
   "execution_count": 345,
   "id": "34520acb",
   "metadata": {},
   "outputs": [
    {
     "name": "stdout",
     "output_type": "stream",
     "text": [
      "Sample 1: Fraction of monochromatic quadruples: 0.1150278293135436\n",
      "Sample 2: Fraction of monochromatic quadruples: 0.1280148423005566\n",
      "Sample 3: Fraction of monochromatic quadruples: 0.1292517006802721\n",
      "Sample 4: Fraction of monochromatic quadruples: 0.11069882498453927\n",
      "Sample 5: Fraction of monochromatic quadruples: 0.12987012987012986\n"
     ]
    }
   ],
   "source": [
    "def monochromatic_quadruples_fraction(colors):\n",
    "    \"\"\"Calculate the fraction of monochromatic arithmetic progressions of length 4.\"\"\"\n",
    "    n = len(colors)\n",
    "    monochromatic_ap = 0\n",
    "    total_ap = 0\n",
    "    \n",
    "    # Iterate over all possible quadruples (i, j, k, l) that form an arithmetic progression\n",
    "    for i in range(n):\n",
    "        for j in range(i + 1, n):\n",
    "            diff = j - i\n",
    "            k = j + diff\n",
    "            l = k + diff\n",
    "            if l < n:\n",
    "               # print(f\"Indices: ({i}, {j}, {k}, {l}) -> Colors: ({colors[i]}, {colors[j]}, {colors[k]}, {colors[l]})\")\n",
    "                total_ap += 1\n",
    "                if colors[i] == colors[j] == colors[k] == colors[l]:\n",
    "                    monochromatic_ap += 1\n",
    "    \n",
    "    # Calculate the fraction\n",
    "    if total_ap != 0:\n",
    "        fraction_monochromatic_ap = monochromatic_ap / total_ap\n",
    "    else:\n",
    "        fraction_monochromatic_ap = 0\n",
    "    \n",
    "    return fraction_monochromatic_ap\n",
    "\n",
    "# Applying the function on the sample dataset\n",
    "sample_monochromatic_quadruples_fractions = [monochromatic_quadruples_fraction(colors) for colors in sample_dataset]\n",
    "\n",
    "# Print calculated fractions\n",
    "for i in range(5):\n",
    "    print(f\"Sample {i + 1}: Fraction of monochromatic quadruples: {sample_monochromatic_quadruples_fractions[i]}\")\n"
   ]
  },
  {
   "cell_type": "markdown",
   "id": "cf7f5921",
   "metadata": {},
   "source": [
    "## Fractions of Monochromatic arithmetic quintuples (5,5)"
   ]
  },
  {
   "cell_type": "code",
   "execution_count": null,
   "id": "6a52bb5f",
   "metadata": {},
   "outputs": [],
   "source": []
  },
  {
   "cell_type": "code",
   "execution_count": 347,
   "id": "0c14a783",
   "metadata": {},
   "outputs": [
    {
     "name": "stdout",
     "output_type": "stream",
     "text": [
      "Sample 1: Fraction of monochromatic quintuples: 0.055\n",
      "Sample 2: Fraction of monochromatic quintuples: 0.06166666666666667\n",
      "Sample 3: Fraction of monochromatic quintuples: 0.06666666666666667\n",
      "Sample 4: Fraction of monochromatic quintuples: 0.04666666666666667\n",
      "Sample 5: Fraction of monochromatic quintuples: 0.06583333333333333\n"
     ]
    }
   ],
   "source": [
    "def monochromatic_quintuples_fraction(colors):\n",
    "    \"\"\"Calculate the fraction of monochromatic arithmetic progressions of length 5.\"\"\"\n",
    "    n = len(colors)\n",
    "    monochromatic_ap = 0\n",
    "    total_ap = 0\n",
    "    \n",
    "    # Iterate over all possible quintuples (i, j, k, l, m) that form an arithmetic progression\n",
    "    for i in range(n):\n",
    "        for j in range(i + 1, n):\n",
    "            diff = j - i\n",
    "            k = j + diff\n",
    "            l = k + diff\n",
    "            m = l + diff\n",
    "            if m < n:\n",
    "                #print(f\"Indices: ({i}, {j}, {k}, {l}, {m}) -> Colors: ({colors[i]}, {colors[j]}, {colors[k]}, {colors[l]}, {colors[m]})\")\n",
    "                total_ap += 1\n",
    "                if colors[i] == colors[j] == colors[k] == colors[l] == colors[m]:\n",
    "                    monochromatic_ap += 1\n",
    "    \n",
    "    # Calculate the fraction\n",
    "    if total_ap != 0:\n",
    "        fraction_monochromatic_ap = monochromatic_ap / total_ap\n",
    "    else:\n",
    "        fraction_monochromatic_ap = 0\n",
    "    \n",
    "    return fraction_monochromatic_ap\n",
    "\n",
    "# Sample dataset\n",
    "# sample_dataset = [\n",
    "#     ['red', 'blue', 'red', 'blue', 'red', 'blue', 'red', 'blue', 'red', 'blue'],\n",
    "#     ['red', 'red', 'red', 'red', 'red', 'red', 'red', 'red', 'red', 'red','blue'],\n",
    "#     ['blue', 'blue', 'blue', 'blue', 'blue', 'blue', 'blue', 'blue', 'blue', 'blue'],\n",
    "#     ['red', 'red', 'blue', 'blue', 'red', 'red', 'blue', 'blue', 'red', 'red'],\n",
    "#     ['red', 'blue', 'blue', 'red', 'blue', 'red', 'red', 'blue', 'blue', 'red']\n",
    "# ]\n",
    "\n",
    "# Applying the function on the sample dataset\n",
    "sample_monochromatic_quintuples_fractions = [monochromatic_quintuples_fraction(colors) for colors in sample_dataset]\n",
    "\n",
    "# Print calculated fractions\n",
    "for i in range(5):\n",
    "    print(f\"Sample {i + 1}: Fraction of monochromatic quintuples: {sample_monochromatic_quintuples_fractions[i]}\")\n"
   ]
  },
  {
   "cell_type": "code",
   "execution_count": null,
   "id": "a89a50c8",
   "metadata": {},
   "outputs": [],
   "source": []
  },
  {
   "cell_type": "markdown",
   "id": "73914e40",
   "metadata": {},
   "source": [
    "## Monochromatic Sextuple (6,6)"
   ]
  },
  {
   "cell_type": "code",
   "execution_count": null,
   "id": "3b07529f",
   "metadata": {},
   "outputs": [],
   "source": []
  },
  {
   "cell_type": "code",
   "execution_count": 350,
   "id": "5f8180f6",
   "metadata": {},
   "outputs": [
    {
     "name": "stdout",
     "output_type": "stream",
     "text": [
      "Sample 1: Fraction of monochromatic sextuples: 0.02736842105263158\n",
      "Sample 2: Fraction of monochromatic sextuples: 0.03263157894736842\n",
      "Sample 3: Fraction of monochromatic sextuples: 0.031578947368421054\n",
      "Sample 4: Fraction of monochromatic sextuples: 0.016842105263157894\n",
      "Sample 5: Fraction of monochromatic sextuples: 0.02736842105263158\n"
     ]
    }
   ],
   "source": [
    "def monochromatic_sextuples_fraction(colors):\n",
    "    \"\"\"Calculate the fraction of monochromatic arithmetic progressions of length 6.\"\"\"\n",
    "    n = len(colors)\n",
    "    monochromatic_ap = 0\n",
    "    total_ap = 0\n",
    "    \n",
    "    # Iterate over all possible sextuples (i, j, k, l, m, n) that form an arithmetic progression\n",
    "    for i in range(n):\n",
    "        for j in range(i + 1, n):\n",
    "            diff = j - i\n",
    "            k = j + diff\n",
    "            l = k + diff\n",
    "            m = l + diff\n",
    "            o = m + diff\n",
    "            if o < n:\n",
    "                # print(f\"Indices: ({i}, {j}, {k}, {l}, {m}, {o}) -> Colors: ({colors[i]}, {colors[j]}, {colors[k]}, {colors[l]}, {colors[m]}, {colors[o]})\")\n",
    "                total_ap += 1\n",
    "                if colors[i] == colors[j] == colors[k] == colors[l] == colors[m] == colors[o]:\n",
    "                    monochromatic_ap += 1\n",
    "    \n",
    "    # Calculate the fraction\n",
    "    if total_ap != 0:\n",
    "        fraction_monochromatic_ap = monochromatic_ap / total_ap\n",
    "    else:\n",
    "        fraction_monochromatic_ap = 0\n",
    "    \n",
    "    return fraction_monochromatic_ap\n",
    "\n",
    "# # Sample dataset\n",
    "# sample_dataset = [\n",
    "#     ['red', 'blue', 'red', 'blue', 'red', 'blue', 'red', 'blue', 'red', 'blue'],\n",
    "#     ['red', 'red', 'red', 'red', 'red', 'red', 'red', 'red', 'red', 'red', 'blue'],\n",
    "#     ['blue', 'blue', 'blue', 'blue', 'blue', 'blue', 'blue', 'blue', 'blue', 'blue'],\n",
    "#     ['red', 'red', 'blue', 'blue', 'red', 'red', 'blue', 'blue', 'red', 'red'],\n",
    "#     ['red', 'blue', 'blue', 'red', 'blue', 'red', 'red', 'blue', 'blue', 'red']\n",
    "# ]\n",
    "\n",
    "# Applying the function on the sample dataset\n",
    "sample_monochromatic_sextuples_fractions = [monochromatic_sextuples_fraction(colors) for colors in sample_dataset]\n",
    "\n",
    "# Print calculated fractions\n",
    "for i in range(5):\n",
    "    print(f\"Sample {i + 1}: Fraction of monochromatic sextuples: {sample_monochromatic_sextuples_fractions[i]}\")\n"
   ]
  },
  {
   "cell_type": "code",
   "execution_count": 351,
   "id": "3eed0a22",
   "metadata": {},
   "outputs": [
    {
     "data": {
      "text/plain": [
       "0.03131105263157895"
      ]
     },
     "execution_count": 351,
     "metadata": {},
     "output_type": "execute_result"
    }
   ],
   "source": [
    "np.mean(sample_monochromatic_sextuples_fractions)"
   ]
  },
  {
   "cell_type": "markdown",
   "id": "130e1e35",
   "metadata": {},
   "source": [
    "## Monochromatic septuples (7,7)"
   ]
  },
  {
   "cell_type": "code",
   "execution_count": null,
   "id": "2b720e0b",
   "metadata": {},
   "outputs": [],
   "source": []
  },
  {
   "cell_type": "code",
   "execution_count": 353,
   "id": "3cf82ce6",
   "metadata": {},
   "outputs": [
    {
     "name": "stdout",
     "output_type": "stream",
     "text": [
      "Sample 1: Fraction of monochromatic septuples: 0.01403061224489796\n",
      "Sample 2: Fraction of monochromatic septuples: 0.015306122448979591\n",
      "Sample 3: Fraction of monochromatic septuples: 0.012755102040816327\n",
      "Sample 4: Fraction of monochromatic septuples: 0.002551020408163265\n",
      "Sample 5: Fraction of monochromatic septuples: 0.011479591836734694\n"
     ]
    }
   ],
   "source": [
    "def monochromatic_septuples_fraction(colors):\n",
    "    \"\"\"Calculate the fraction of monochromatic arithmetic progressions of length 7.\"\"\"\n",
    "    n = len(colors)\n",
    "    monochromatic_ap = 0\n",
    "    total_ap = 0\n",
    "    \n",
    "    # Iterate over all possible septuples (i, j, k, l, m, o, p) that form an arithmetic progression\n",
    "    for i in range(n):\n",
    "        for j in range(i + 1, n):\n",
    "            diff = j - i\n",
    "            k = j + diff\n",
    "            l = k + diff\n",
    "            m = l + diff\n",
    "            o = m + diff\n",
    "            p = o + diff\n",
    "            if p < n:\n",
    "                total_ap += 1\n",
    "                if colors[i] == colors[j] == colors[k] == colors[l] == colors[m] == colors[o] == colors[p]:\n",
    "                    monochromatic_ap += 1\n",
    "    \n",
    "    # Calculate the fraction\n",
    "    if total_ap != 0:\n",
    "        fraction_monochromatic_ap = monochromatic_ap / total_ap\n",
    "    else:\n",
    "        fraction_monochromatic_ap = 0\n",
    "    \n",
    "    return fraction_monochromatic_ap\n",
    "\n",
    "# # Sample dataset\n",
    "# sample_dataset = [\n",
    "#     ['red', 'blue', 'red', 'blue', 'red', 'blue', 'red', 'blue', 'red', 'blue'],\n",
    "#     ['red', 'red', 'red', 'red', 'red', 'red', 'red', 'red', 'red', 'red', 'blue','blue','blue'],\n",
    "#     ['blue', 'blue', 'blue', 'blue', 'blue', 'blue', 'blue', 'blue', 'blue', 'blue'],\n",
    "#     ['red', 'red', 'blue', 'blue', 'red', 'red', 'blue', 'blue', 'red', 'red'],\n",
    "#     ['red', 'blue', 'blue', 'red', 'blue', 'red', 'red', 'blue', 'blue', 'red','red']\n",
    "# ]\n",
    "\n",
    "# Applying the function on the sample dataset\n",
    "sample_monochromatic_septuples_fractions = [monochromatic_septuples_fraction(colors) for colors in sample_dataset]\n",
    "\n",
    "# Print calculated fractions\n",
    "for i in range(5):\n",
    "    print(f\"Sample {i + 1}: Fraction of monochromatic septuples: {sample_monochromatic_septuples_fractions[i]}\")\n"
   ]
  },
  {
   "cell_type": "code",
   "execution_count": 354,
   "id": "8a750015",
   "metadata": {},
   "outputs": [
    {
     "data": {
      "text/plain": [
       "0.015652270408163266"
      ]
     },
     "execution_count": 354,
     "metadata": {},
     "output_type": "execute_result"
    }
   ],
   "source": [
    "np.mean(sample_monochromatic_septuples_fractions)"
   ]
  },
  {
   "cell_type": "markdown",
   "id": "f5ca1e81",
   "metadata": {},
   "source": [
    "## Anti-Symmetry"
   ]
  },
  {
   "cell_type": "code",
   "execution_count": 355,
   "id": "83f450ed",
   "metadata": {},
   "outputs": [
    {
     "name": "stdout",
     "output_type": "stream",
     "text": [
      "Sample 1: 0.6200\n",
      "Sample 2: 0.5600\n",
      "Sample 3: 0.3800\n",
      "Sample 4: 0.6000\n",
      "Sample 5: 0.4400\n"
     ]
    }
   ],
   "source": [
    "def anti_symmetry(colors):\n",
    "    \"\"\"Calculate the fraction of opposite elements with different colors.\"\"\"\n",
    "    n = len(colors)\n",
    "    num_opposite_different_colors = 0\n",
    "    total_opposite_pairs = n // 2  # Total number of opposite pairs\n",
    "    \n",
    "    for i in range(total_opposite_pairs):\n",
    "        if colors[i] != colors[n - 1 - i]:  # Check if opposite elements have different colors\n",
    "            num_opposite_different_colors += 1\n",
    "    \n",
    "    # Calculate the fraction\n",
    "    if total_opposite_pairs != 0:\n",
    "        fraction_anti_symmetry = num_opposite_different_colors / total_opposite_pairs\n",
    "    else:\n",
    "        fraction_anti_symmetry = 0\n",
    "    \n",
    "    return fraction_anti_symmetry\n",
    "\n",
    "\n",
    "# Applying the function on the sample dataset\n",
    "sample_anti_symmetry = [anti_symmetry(colors) for colors in sample_dataset]\n",
    "\n",
    "# Print first 5 calculated fractions\n",
    "for i in range(min(5, len(sample_anti_symmetry))):\n",
    "    print(f\"Sample {i + 1}: {sample_anti_symmetry[i]:.4f}\")\n"
   ]
  },
  {
   "cell_type": "markdown",
   "id": "0ae3fd8d",
   "metadata": {},
   "source": [
    "## Proportions of more popular color"
   ]
  },
  {
   "cell_type": "code",
   "execution_count": 356,
   "id": "acdbcea3",
   "metadata": {},
   "outputs": [
    {
     "name": "stdout",
     "output_type": "stream",
     "text": [
      "Sample 1: Proportion of the more popular color: 0.53, The more popular color is: red\n",
      "Sample 2: Proportion of the more popular color: 0.56, The more popular color is: blue\n",
      "Sample 3: Proportion of the more popular color: 0.55, The more popular color is: blue\n",
      "Sample 4: Proportion of the more popular color: 0.5, The more popular color is: red\n",
      "Sample 5: Proportion of the more popular color: 0.58, The more popular color is: red\n"
     ]
    }
   ],
   "source": [
    "\n",
    "def calculate_proportion_more_popular_color(colors):\n",
    "    \"\"\"Calculate the proportion of the more popular color.\"\"\"\n",
    "    # Count occurrences of each color\n",
    "    counts = {color: colors.count(color) for color in set(colors)}\n",
    "    \n",
    "    # Determine the more popular color\n",
    "    more_popular_color = max(counts, key=counts.get)\n",
    "    \n",
    "    # Calculate proportion of the more popular color\n",
    "    proportion_more_popular_color = counts[more_popular_color] / len(colors)\n",
    "    \n",
    "    return proportion_more_popular_color, more_popular_color\n",
    "\n",
    "# Applying the function on the sample dataset\n",
    "sample_proportions = [calculate_proportion_more_popular_color(colors) for colors in sample_dataset]\n",
    "\n",
    "# first 5 calculated proportions and corresponding colors\n",
    "for i in range(5):\n",
    "    proportion, color = sample_proportions[i]\n",
    "    print(f\"Sample {i + 1}: Proportion of the more popular color: {proportion}, The more popular color is: {color}\")"
   ]
  },
  {
   "cell_type": "code",
   "execution_count": 357,
   "id": "36ab9b54",
   "metadata": {},
   "outputs": [
    {
     "name": "stdout",
     "output_type": "stream",
     "text": [
      "Sample 1: Proportion of the more popular color: 0.53\n",
      "Sample 2: Proportion of the more popular color: 0.56\n",
      "Sample 3: Proportion of the more popular color: 0.55\n",
      "Sample 4: Proportion of the more popular color: 0.5\n",
      "Sample 5: Proportion of the more popular color: 0.58\n"
     ]
    }
   ],
   "source": [
    "# Extracting only the proportions from the sample_proportions\n",
    "sample_popular_proportions_only = [proportions for proportions, _ in sample_proportions]\n",
    "\n",
    "# first 5 calculated proportions\n",
    "for i in range(5):\n",
    "    print(f\"Sample {i + 1}: Proportion of the more popular color: {sample_popular_proportions_only[i]}\")"
   ]
  },
  {
   "cell_type": "markdown",
   "id": "070c7a7c",
   "metadata": {},
   "source": [
    "## Transition Frequency"
   ]
  },
  {
   "cell_type": "code",
   "execution_count": 358,
   "id": "1ad80952",
   "metadata": {},
   "outputs": [],
   "source": [
    "def calculate_color_transition_frequency(colors):\n",
    "    \"\"\"Calculate the frequency of transitions between different colors.\"\"\"\n",
    "    transitions = 0\n",
    "    for i in range(1, len(colors)):\n",
    "        if colors[i] != colors[i - 1]:\n",
    "            transitions += 1\n",
    "    return transitions/200"
   ]
  },
  {
   "cell_type": "code",
   "execution_count": 359,
   "id": "7ffae4b3",
   "metadata": {},
   "outputs": [
    {
     "name": "stdout",
     "output_type": "stream",
     "text": [
      "Sample 1: Transition frequency: 0.285\n",
      "Sample 2: Transition frequency: 0.265\n",
      "Sample 3: Transition frequency: 0.255\n",
      "Sample 4: Transition frequency: 0.26\n",
      "Sample 5: Transition frequency: 0.225\n"
     ]
    }
   ],
   "source": [
    "# Applying the function on the sample dataset\n",
    "color_transition = [calculate_color_transition_frequency(colors) for colors in sample_dataset]\n",
    "\n",
    "# first 5 calculated transition frequencies\n",
    "for i in range(5):\n",
    "    print(f\"Sample {i + 1}: Transition frequency: {color_transition[i]}\")\n"
   ]
  },
  {
   "cell_type": "markdown",
   "id": "3869beb2",
   "metadata": {},
   "source": [
    "## Blockiness: Longest block"
   ]
  },
  {
   "cell_type": "code",
   "execution_count": 360,
   "id": "c9ede3b2",
   "metadata": {},
   "outputs": [
    {
     "name": "stdout",
     "output_type": "stream",
     "text": [
      "Sample 1: Blockiness: 0.09\n",
      "Sample 2: Blockiness: 0.06\n",
      "Sample 3: Blockiness: 0.06\n",
      "Sample 4: Blockiness: 0.05\n",
      "Sample 5: Blockiness: 0.09\n"
     ]
    }
   ],
   "source": [
    "def blockiness(colors):\n",
    "    \"\"\"Calculate the blockiness of the coloring.\"\"\"\n",
    "    block_count = 0  # Initialize block count\n",
    "    max_block_length = 0  # Initialize maximum block length\n",
    "    current_block_length = 0  # Initialize current block length\n",
    "    prev_color = None  # Initialize previous color tracker\n",
    "\n",
    "    for color in colors:\n",
    "        if color == prev_color:\n",
    "            current_block_length += 1  # Increment current block length if the same color continues\n",
    "        else:\n",
    "            if current_block_length > max_block_length:\n",
    "                max_block_length = current_block_length  # Update maximum block length if current block is longer\n",
    "            current_block_length = 1  # Reset current block length for a new color block\n",
    "            block_count += 1  # Increment block count\n",
    "            prev_color = color  # Update previous color to current color\n",
    "\n",
    "    # Check the last block\n",
    "    if current_block_length > max_block_length:\n",
    "        max_block_length = current_block_length  # Update maximum block length if the last block is the longest\n",
    "\n",
    "    # Calculate blockiness as the ratio of the longest block length to the total number of colors\n",
    "    return max_block_length / len(colors)\n",
    "\n",
    "# Calculate blockiness for each coloring sequence in the sample dataset\n",
    "blockiness_values = [blockiness(colors) for colors in sample_dataset]\n",
    "\n",
    "# Print the first 5 blockiness values\n",
    "for i in range(5):\n",
    "    print(f\"Sample {i + 1}: Blockiness: {blockiness_values[i]}\")\n"
   ]
  },
  {
   "cell_type": "markdown",
   "id": "e8bfab9d",
   "metadata": {},
   "source": [
    "## Proportions of Red and Blue"
   ]
  },
  {
   "cell_type": "code",
   "execution_count": 361,
   "id": "56a9fe05",
   "metadata": {},
   "outputs": [
    {
     "name": "stdout",
     "output_type": "stream",
     "text": [
      "Proportion of Blue:\n",
      "Sample 1: 0.47\n",
      "Sample 2: 0.56\n",
      "Sample 3: 0.55\n",
      "Sample 4: 0.5\n",
      "Sample 5: 0.42\n",
      "\n",
      "Proportion of Red:\n",
      "Sample 1: 0.53\n",
      "Sample 2: 0.44\n",
      "Sample 3: 0.45\n",
      "Sample 4: 0.5\n",
      "Sample 5: 0.58\n"
     ]
    }
   ],
   "source": [
    "def proportion_of_color(colors, color):\n",
    "    \"\"\"Calculate the proportion of a specific color in the coloring.\"\"\"\n",
    "    count = colors.count(color)\n",
    "    total = len(colors)\n",
    "    return count / total if total > 0 else 0\n",
    "\n",
    "def proportion_of_blue(colors):\n",
    "    return proportion_of_color(colors, 'blue')\n",
    "\n",
    "def proportion_of_red(colors):\n",
    "    return proportion_of_color(colors, 'red')\n",
    "\n",
    "# Applying the functions to the sample dataset\n",
    "proportion_blue = [proportion_of_blue(colors) for colors in sample_dataset]\n",
    "proportion_red = [proportion_of_red(colors) for colors in sample_dataset]\n",
    "#proportion_green = [proportion_of_green(colors) for colors in sample_dataset]\n",
    "\n",
    "# Print first 5 calculated proportions for each color\n",
    "print(\"Proportion of Blue:\")\n",
    "for i in range(5):\n",
    "    print(f\"Sample {i + 1}: {proportion_blue[i]}\")\n",
    "\n",
    "print(\"\\nProportion of Red:\")\n",
    "for i in range(5):\n",
    "    print(f\"Sample {i + 1}: {proportion_red[i]}\")"
   ]
  },
  {
   "cell_type": "markdown",
   "id": "2136123b",
   "metadata": {},
   "source": [
    "## Length Training Data"
   ]
  },
  {
   "cell_type": "code",
   "execution_count": null,
   "id": "19db500e",
   "metadata": {},
   "outputs": [],
   "source": [
    "#length train\n",
    "length = [3] * 100000 + [4] * 100000+ [5] * 100000 + [6]*100000 + [7] * 100000"
   ]
  },
  {
   "cell_type": "markdown",
   "id": "4098539a",
   "metadata": {},
   "source": [
    "## Length Test Set"
   ]
  },
  {
   "cell_type": "code",
   "execution_count": 363,
   "id": "beb859d9",
   "metadata": {},
   "outputs": [],
   "source": [
    "# length_test\n",
    "length_test = [7]*50000"
   ]
  },
  {
   "cell_type": "markdown",
   "id": "5adca00b",
   "metadata": {},
   "source": [
    "## DataFrame"
   ]
  },
  {
   "cell_type": "code",
   "execution_count": 364,
   "id": "13c18b8b",
   "metadata": {},
   "outputs": [],
   "source": [
    "train_data = pd.DataFrame(\n",
    "{\n",
    "'anti_symmetry':sample_anti_symmetry,\n",
    "#'proportion_blue':proportion_blue,\n",
    "'proportion_red':proportion_red,\n",
    "'blockiness_values':blockiness_values,\n",
    "'transition_frequency':color_transition,\n",
    "'popular_proportions':sample_popular_proportions_only\n",
    "}\n",
    ")"
   ]
  },
  {
   "cell_type": "markdown",
   "id": "c2f55b8f",
   "metadata": {},
   "source": [
    "## Squared distances Weighting"
   ]
  },
  {
   "cell_type": "code",
   "execution_count": null,
   "id": "78fb418b",
   "metadata": {},
   "outputs": [],
   "source": [
    "# Calculate the mean for each column\n",
    "means = train_data[['transition_frequency', 'anti_symmetry']].mean()\n",
    "\n",
    "# Calculate the distance\n",
    "train_data['transition_frequency_squared_distance'] = (train_data['transition_frequency'] - means['transition_frequency'])\n",
    "train_data['anti_symmetry_squared_distance'] = (train_data['anti_symmetry'] - means['anti_symmetry'])\n"
   ]
  },
  {
   "cell_type": "code",
   "execution_count": 366,
   "id": "2d5d8b2a",
   "metadata": {},
   "outputs": [
    {
     "data": {
      "text/plain": [
       "(50000, 7)"
      ]
     },
     "execution_count": 366,
     "metadata": {},
     "output_type": "execute_result"
    }
   ],
   "source": [
    "train_data.shape"
   ]
  },
  {
   "cell_type": "markdown",
   "id": "14608468",
   "metadata": {},
   "source": [
    "## Datasplit"
   ]
  },
  {
   "cell_type": "code",
   "execution_count": 367,
   "id": "a3d788b1",
   "metadata": {},
   "outputs": [],
   "source": [
    "test_data = train_data\n"
   ]
  },
  {
   "cell_type": "code",
   "execution_count": 368,
   "id": "1b58f9cd",
   "metadata": {},
   "outputs": [],
   "source": [
    "# ."
   ]
  },
  {
   "cell_type": "markdown",
   "id": "e5949c4d",
   "metadata": {},
   "source": [
    "## Combined training data"
   ]
  },
  {
   "cell_type": "code",
   "execution_count": null,
   "id": "daf5cf7d",
   "metadata": {},
   "outputs": [],
   "source": [
    "combined_data = pd.concat([train_data]*5, axis = 0)"
   ]
  },
  {
   "cell_type": "code",
   "execution_count": null,
   "id": "3de1dc7a",
   "metadata": {
    "scrolled": true
   },
   "outputs": [],
   "source": [
    "combined_data.head()"
   ]
  },
  {
   "cell_type": "markdown",
   "id": "7ec80dc2",
   "metadata": {},
   "source": [
    "## Add length to training dataframe"
   ]
  },
  {
   "cell_type": "code",
   "execution_count": 372,
   "id": "811005df",
   "metadata": {},
   "outputs": [],
   "source": [
    "test_data['length_test'] = length_test"
   ]
  },
  {
   "cell_type": "code",
   "execution_count": null,
   "id": "8ab2af85",
   "metadata": {},
   "outputs": [],
   "source": [
    "combined_data['length'] = length"
   ]
  },
  {
   "cell_type": "code",
   "execution_count": 374,
   "id": "f74cf5f2",
   "metadata": {},
   "outputs": [],
   "source": [
    "# combined_data.head()"
   ]
  },
  {
   "cell_type": "code",
   "execution_count": 375,
   "id": "f73cac40",
   "metadata": {},
   "outputs": [
    {
     "data": {
      "text/plain": [
       "(50000, 8)"
      ]
     },
     "execution_count": 375,
     "metadata": {},
     "output_type": "execute_result"
    }
   ],
   "source": [
    "test_data.shape"
   ]
  },
  {
   "cell_type": "markdown",
   "id": "b2b97716",
   "metadata": {},
   "source": [
    "## Y training"
   ]
  },
  {
   "cell_type": "code",
   "execution_count": null,
   "id": "4d039497",
   "metadata": {},
   "outputs": [
    {
     "data": {
      "text/html": [
       "<div>\n",
       "<style scoped>\n",
       "    .dataframe tbody tr th:only-of-type {\n",
       "        vertical-align: middle;\n",
       "    }\n",
       "\n",
       "    .dataframe tbody tr th {\n",
       "        vertical-align: top;\n",
       "    }\n",
       "\n",
       "    .dataframe thead th {\n",
       "        text-align: right;\n",
       "    }\n",
       "</style>\n",
       "<table border=\"1\" class=\"dataframe\">\n",
       "  <thead>\n",
       "    <tr style=\"text-align: right;\">\n",
       "      <th></th>\n",
       "      <th>fractions</th>\n",
       "    </tr>\n",
       "  </thead>\n",
       "  <tbody>\n",
       "    <tr>\n",
       "      <th>0</th>\n",
       "      <td>0.014031</td>\n",
       "    </tr>\n",
       "    <tr>\n",
       "      <th>1</th>\n",
       "      <td>0.015306</td>\n",
       "    </tr>\n",
       "    <tr>\n",
       "      <th>2</th>\n",
       "      <td>0.012755</td>\n",
       "    </tr>\n",
       "    <tr>\n",
       "      <th>3</th>\n",
       "      <td>0.002551</td>\n",
       "    </tr>\n",
       "    <tr>\n",
       "      <th>4</th>\n",
       "      <td>0.011480</td>\n",
       "    </tr>\n",
       "  </tbody>\n",
       "</table>\n",
       "</div>"
      ],
      "text/plain": [
       "   fractions\n",
       "0   0.014031\n",
       "1   0.015306\n",
       "2   0.012755\n",
       "3   0.002551\n",
       "4   0.011480"
      ]
     },
     "execution_count": 376,
     "metadata": {},
     "output_type": "execute_result"
    }
   ],
   "source": [
    "fractions_list = [\n",
    "    pd.Series(sample_monochromatic_triples_fractions, name='fractions', dtype=float).to_frame(),\n",
    "    pd.Series(sample_monochromatic_quadruples_fractions, name='fractions', dtype=float).to_frame(),\n",
    "    pd.Series(sample_monochromatic_quintuples_fractions, name='fractions', dtype=float).to_frame(),\n",
    "    pd.Series(sample_monochromatic_sextuples_fractions, name='fractions', dtype=float).to_frame(),\n",
    "    pd.Series(sample_monochromatic_septuples_fractions, name='fractions', dtype=float).to_frame()\n",
    "]\n",
    "\n",
    "# Concatenate the list of Series DataFrames\n",
    "y_train = pd.concat(fractions_list, axis=0)\n",
    "\n",
    "y_train.head()\n"
   ]
  },
  {
   "cell_type": "code",
   "execution_count": 377,
   "id": "4d38df13",
   "metadata": {},
   "outputs": [
    {
     "data": {
      "text/plain": [
       "fractions    0.015652\n",
       "dtype: float64"
      ]
     },
     "execution_count": 377,
     "metadata": {},
     "output_type": "execute_result"
    }
   ],
   "source": [
    "y_train.mean()"
   ]
  },
  {
   "cell_type": "code",
   "execution_count": 385,
   "id": "d079e312",
   "metadata": {},
   "outputs": [
    {
     "data": {
      "text/plain": [
       "0.25"
      ]
     },
     "execution_count": 385,
     "metadata": {},
     "output_type": "execute_result"
    }
   ],
   "source": [
    "1/(2**(3-1))"
   ]
  },
  {
   "cell_type": "markdown",
   "id": "3f699942",
   "metadata": {},
   "source": [
    "## Concatenated Training Data"
   ]
  },
  {
   "cell_type": "code",
   "execution_count": null,
   "id": "7db266b6",
   "metadata": {},
   "outputs": [],
   "source": [
    "# Concatenate side by side\n",
    "final_train_df = pd.concat([test_data, y_train], axis=1)"
   ]
  },
  {
   "cell_type": "code",
   "execution_count": 380,
   "id": "2bec6e96",
   "metadata": {},
   "outputs": [
    {
     "data": {
      "text/html": [
       "<div>\n",
       "<style scoped>\n",
       "    .dataframe tbody tr th:only-of-type {\n",
       "        vertical-align: middle;\n",
       "    }\n",
       "\n",
       "    .dataframe tbody tr th {\n",
       "        vertical-align: top;\n",
       "    }\n",
       "\n",
       "    .dataframe thead th {\n",
       "        text-align: right;\n",
       "    }\n",
       "</style>\n",
       "<table border=\"1\" class=\"dataframe\">\n",
       "  <thead>\n",
       "    <tr style=\"text-align: right;\">\n",
       "      <th></th>\n",
       "      <th>anti_symmetry</th>\n",
       "      <th>proportion_red</th>\n",
       "      <th>blockiness_values</th>\n",
       "      <th>transition_frequency</th>\n",
       "      <th>popular_proportions</th>\n",
       "      <th>transition_frequency_squared_distance</th>\n",
       "      <th>anti_symmetry_squared_distance</th>\n",
       "      <th>length_test</th>\n",
       "      <th>fractions</th>\n",
       "    </tr>\n",
       "  </thead>\n",
       "  <tbody>\n",
       "    <tr>\n",
       "      <th>0</th>\n",
       "      <td>0.62</td>\n",
       "      <td>0.53</td>\n",
       "      <td>0.09</td>\n",
       "      <td>0.285</td>\n",
       "      <td>0.53</td>\n",
       "      <td>0.037402</td>\n",
       "      <td>0.119938</td>\n",
       "      <td>7</td>\n",
       "      <td>0.014031</td>\n",
       "    </tr>\n",
       "    <tr>\n",
       "      <th>1</th>\n",
       "      <td>0.56</td>\n",
       "      <td>0.44</td>\n",
       "      <td>0.06</td>\n",
       "      <td>0.265</td>\n",
       "      <td>0.56</td>\n",
       "      <td>0.017402</td>\n",
       "      <td>0.059938</td>\n",
       "      <td>7</td>\n",
       "      <td>0.015306</td>\n",
       "    </tr>\n",
       "    <tr>\n",
       "      <th>2</th>\n",
       "      <td>0.38</td>\n",
       "      <td>0.45</td>\n",
       "      <td>0.06</td>\n",
       "      <td>0.255</td>\n",
       "      <td>0.55</td>\n",
       "      <td>0.007402</td>\n",
       "      <td>-0.120062</td>\n",
       "      <td>7</td>\n",
       "      <td>0.012755</td>\n",
       "    </tr>\n",
       "    <tr>\n",
       "      <th>3</th>\n",
       "      <td>0.60</td>\n",
       "      <td>0.50</td>\n",
       "      <td>0.05</td>\n",
       "      <td>0.260</td>\n",
       "      <td>0.50</td>\n",
       "      <td>0.012402</td>\n",
       "      <td>0.099938</td>\n",
       "      <td>7</td>\n",
       "      <td>0.002551</td>\n",
       "    </tr>\n",
       "    <tr>\n",
       "      <th>4</th>\n",
       "      <td>0.44</td>\n",
       "      <td>0.58</td>\n",
       "      <td>0.09</td>\n",
       "      <td>0.225</td>\n",
       "      <td>0.58</td>\n",
       "      <td>-0.022598</td>\n",
       "      <td>-0.060062</td>\n",
       "      <td>7</td>\n",
       "      <td>0.011480</td>\n",
       "    </tr>\n",
       "  </tbody>\n",
       "</table>\n",
       "</div>"
      ],
      "text/plain": [
       "   anti_symmetry  proportion_red  blockiness_values  transition_frequency  \\\n",
       "0           0.62            0.53               0.09                 0.285   \n",
       "1           0.56            0.44               0.06                 0.265   \n",
       "2           0.38            0.45               0.06                 0.255   \n",
       "3           0.60            0.50               0.05                 0.260   \n",
       "4           0.44            0.58               0.09                 0.225   \n",
       "\n",
       "   popular_proportions  transition_frequency_squared_distance  \\\n",
       "0                 0.53                               0.037402   \n",
       "1                 0.56                               0.017402   \n",
       "2                 0.55                               0.007402   \n",
       "3                 0.50                               0.012402   \n",
       "4                 0.58                              -0.022598   \n",
       "\n",
       "   anti_symmetry_squared_distance  length_test  fractions  \n",
       "0                        0.119938            7   0.014031  \n",
       "1                        0.059938            7   0.015306  \n",
       "2                       -0.120062            7   0.012755  \n",
       "3                        0.099938            7   0.002551  \n",
       "4                       -0.060062            7   0.011480  "
      ]
     },
     "execution_count": 380,
     "metadata": {},
     "output_type": "execute_result"
    }
   ],
   "source": [
    "final_train_df.head()"
   ]
  },
  {
   "cell_type": "code",
   "execution_count": null,
   "id": "ef5c5894",
   "metadata": {},
   "outputs": [],
   "source": [
    "final_train_df.to_csv('train_data.csv')"
   ]
  },
  {
   "cell_type": "code",
   "execution_count": 382,
   "id": "d4c99eb6",
   "metadata": {},
   "outputs": [
    {
     "data": {
      "text/plain": [
       "(50000, 9)"
      ]
     },
     "execution_count": 382,
     "metadata": {},
     "output_type": "execute_result"
    }
   ],
   "source": [
    "final_train_df.shape"
   ]
  }
 ],
 "metadata": {
  "kernelspec": {
   "display_name": "base",
   "language": "python",
   "name": "python3"
  },
  "language_info": {
   "codemirror_mode": {
    "name": "ipython",
    "version": 3
   },
   "file_extension": ".py",
   "mimetype": "text/x-python",
   "name": "python",
   "nbconvert_exporter": "python",
   "pygments_lexer": "ipython3",
   "version": "3.11.5"
  }
 },
 "nbformat": 4,
 "nbformat_minor": 5
}
