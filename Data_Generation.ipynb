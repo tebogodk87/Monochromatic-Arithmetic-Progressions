{
 "cells": [
  {
   "cell_type": "code",
   "execution_count": 271,
   "id": "c52793c5",
   "metadata": {},
   "outputs": [],
   "source": [
    "import numpy as np\n",
    "import random\n",
    "import pandas as pd\n",
    "import matplotlib.pyplot as plt\n",
    "import itertools\n",
    "import matplotlib.pyplot as plt\n",
    "import random\n",
    "from sklearn.linear_model import LinearRegression\n",
    "from sklearn.ensemble import RandomForestRegressor\n",
    "from sklearn.model_selection import train_test_split\n",
    "from sklearn.metrics import mean_squared_error, mean_absolute_error, r2_score\n",
    "from sklearn.neural_network import MLPRegressor"
   ]
  },
  {
   "cell_type": "markdown",
   "id": "eb2fd48a",
   "metadata": {},
   "source": [
    "## Data Generation"
   ]
  },
  {
   "cell_type": "code",
   "execution_count": 272,
   "id": "2d4293e5",
   "metadata": {},
   "outputs": [
    {
     "name": "stdout",
     "output_type": "stream",
     "text": [
      "Sample 1: ['blue', 'blue', 'red', 'blue', 'blue', 'blue', 'red', 'red', 'red', 'red', 'red', 'red', 'red', 'red', 'red', 'red', 'red', 'blue', 'red', 'blue', 'red', 'red', 'red', 'blue', 'blue', 'blue', 'red', 'red', 'red', 'blue', 'blue', 'red', 'blue', 'blue', 'red', 'blue', 'red', 'blue', 'blue', 'blue', 'blue', 'red', 'blue', 'blue', 'blue', 'red', 'red', 'red', 'blue', 'red', 'blue', 'red', 'red', 'blue', 'red', 'red', 'red', 'red', 'blue', 'red', 'red', 'blue', 'blue', 'blue', 'red', 'red', 'red', 'blue', 'red', 'red', 'blue', 'red', 'red', 'blue', 'blue', 'blue', 'blue', 'red', 'blue', 'blue', 'blue', 'blue', 'red', 'blue', 'red', 'blue', 'blue', 'blue', 'red', 'red', 'red', 'red', 'blue', 'red', 'blue', 'blue', 'red', 'blue', 'red', 'blue']\n",
      "Sample 2: ['blue', 'blue', 'blue', 'blue', 'blue', 'red', 'red', 'red', 'red', 'blue', 'red', 'blue', 'blue', 'blue', 'red', 'red', 'blue', 'blue', 'blue', 'red', 'red', 'red', 'red', 'blue', 'blue', 'blue', 'blue', 'red', 'blue', 'red', 'blue', 'blue', 'blue', 'blue', 'blue', 'blue', 'blue', 'red', 'blue', 'blue', 'red', 'blue', 'red', 'blue', 'blue', 'blue', 'blue', 'red', 'red', 'blue', 'blue', 'red', 'red', 'blue', 'blue', 'blue', 'red', 'blue', 'blue', 'blue', 'red', 'red', 'blue', 'blue', 'blue', 'red', 'blue', 'blue', 'red', 'red', 'blue', 'blue', 'red', 'blue', 'red', 'red', 'red', 'blue', 'red', 'blue', 'blue', 'blue', 'blue', 'blue', 'red', 'blue', 'blue', 'blue', 'blue', 'blue', 'red', 'blue', 'blue', 'blue', 'blue', 'blue', 'red', 'red', 'red', 'red']\n",
      "Sample 3: ['red', 'blue', 'blue', 'red', 'red', 'blue', 'blue', 'blue', 'red', 'red', 'red', 'red', 'blue', 'red', 'red', 'red', 'blue', 'blue', 'blue', 'red', 'blue', 'red', 'red', 'red', 'red', 'blue', 'blue', 'blue', 'blue', 'red', 'red', 'red', 'red', 'red', 'blue', 'blue', 'red', 'red', 'red', 'red', 'blue', 'red', 'red', 'red', 'red', 'red', 'blue', 'blue', 'blue', 'blue', 'red', 'red', 'blue', 'blue', 'blue', 'blue', 'red', 'red', 'red', 'red', 'red', 'blue', 'red', 'blue', 'blue', 'blue', 'blue', 'blue', 'red', 'red', 'red', 'red', 'red', 'red', 'red', 'blue', 'blue', 'blue', 'red', 'red', 'red', 'red', 'red', 'red', 'red', 'red', 'blue', 'red', 'red', 'blue', 'red', 'red', 'red', 'blue', 'blue', 'red', 'red', 'blue', 'red', 'blue']\n",
      "Sample 4: ['red', 'blue', 'blue', 'blue', 'red', 'blue', 'blue', 'red', 'red', 'red', 'blue', 'blue', 'red', 'red', 'red', 'red', 'red', 'red', 'red', 'blue', 'red', 'red', 'blue', 'blue', 'red', 'red', 'blue', 'blue', 'red', 'red', 'red', 'red', 'red', 'red', 'blue', 'blue', 'blue', 'red', 'red', 'red', 'blue', 'blue', 'red', 'red', 'red', 'red', 'blue', 'blue', 'red', 'red', 'red', 'red', 'blue', 'blue', 'red', 'blue', 'red', 'blue', 'blue', 'blue', 'blue', 'blue', 'red', 'red', 'red', 'red', 'red', 'red', 'red', 'blue', 'blue', 'blue', 'red', 'blue', 'blue', 'blue', 'blue', 'blue', 'blue', 'red', 'blue', 'blue', 'blue', 'red', 'red', 'blue', 'blue', 'red', 'blue', 'blue', 'blue', 'red', 'red', 'blue', 'blue', 'red', 'red', 'red', 'red', 'blue']\n",
      "Sample 5: ['red', 'red', 'red', 'blue', 'blue', 'blue', 'blue', 'red', 'red', 'blue', 'blue', 'blue', 'blue', 'red', 'red', 'blue', 'blue', 'blue', 'red', 'red', 'red', 'blue', 'blue', 'red', 'blue', 'red', 'red', 'blue', 'red', 'red', 'red', 'red', 'blue', 'red', 'red', 'red', 'blue', 'red', 'blue', 'red', 'red', 'red', 'red', 'red', 'red', 'blue', 'blue', 'blue', 'blue', 'blue', 'blue', 'blue', 'blue', 'blue', 'red', 'blue', 'blue', 'red', 'red', 'blue', 'red', 'red', 'blue', 'blue', 'blue', 'blue', 'blue', 'blue', 'red', 'blue', 'red', 'red', 'blue', 'blue', 'red', 'blue', 'blue', 'blue', 'red', 'blue', 'blue', 'red', 'blue', 'red', 'blue', 'blue', 'red', 'red', 'red', 'blue', 'red', 'blue', 'blue', 'red', 'blue', 'red', 'blue', 'red', 'red', 'red']\n",
      "Sample 6: ['red', 'red', 'blue', 'red', 'red', 'red', 'red', 'red', 'blue', 'blue', 'blue', 'red', 'blue', 'red', 'red', 'blue', 'red', 'blue', 'red', 'red', 'red', 'red', 'blue', 'blue', 'red', 'blue', 'blue', 'blue', 'red', 'blue', 'blue', 'red', 'blue', 'blue', 'red', 'blue', 'red', 'red', 'blue', 'blue', 'blue', 'blue', 'red', 'red', 'red', 'red', 'red', 'red', 'red', 'red', 'red', 'red', 'red', 'blue', 'red', 'red', 'red', 'red', 'red', 'red', 'red', 'red', 'red', 'red', 'blue', 'blue', 'blue', 'blue', 'red', 'blue', 'blue', 'red', 'red', 'blue', 'blue', 'blue', 'red', 'blue', 'blue', 'red', 'red', 'red', 'blue', 'blue', 'blue', 'red', 'blue', 'blue', 'red', 'red', 'blue', 'red', 'blue', 'blue', 'blue', 'red', 'blue', 'blue', 'blue', 'blue']\n",
      "Sample 7: ['red', 'blue', 'red', 'blue', 'red', 'blue', 'red', 'blue', 'red', 'blue', 'blue', 'red', 'red', 'red', 'blue', 'red', 'red', 'blue', 'red', 'blue', 'red', 'red', 'red', 'blue', 'red', 'red', 'red', 'red', 'red', 'red', 'red', 'blue', 'blue', 'red', 'blue', 'red', 'blue', 'blue', 'red', 'red', 'blue', 'blue', 'blue', 'red', 'red', 'blue', 'red', 'red', 'blue', 'red', 'blue', 'blue', 'red', 'blue', 'red', 'blue', 'red', 'red', 'blue', 'blue', 'blue', 'red', 'red', 'red', 'blue', 'red', 'blue', 'blue', 'blue', 'blue', 'blue', 'red', 'red', 'red', 'red', 'blue', 'blue', 'red', 'blue', 'blue', 'blue', 'red', 'red', 'blue', 'red', 'red', 'red', 'blue', 'blue', 'red', 'blue', 'red', 'red', 'blue', 'red', 'blue', 'blue', 'red', 'red', 'red']\n",
      "Sample 8: ['blue', 'blue', 'red', 'red', 'red', 'red', 'red', 'red', 'blue', 'blue', 'blue', 'blue', 'blue', 'blue', 'blue', 'red', 'blue', 'red', 'red', 'red', 'red', 'red', 'red', 'blue', 'red', 'blue', 'red', 'blue', 'blue', 'red', 'blue', 'red', 'red', 'blue', 'blue', 'blue', 'blue', 'blue', 'blue', 'red', 'red', 'red', 'red', 'blue', 'blue', 'red', 'blue', 'blue', 'red', 'red', 'red', 'blue', 'red', 'red', 'red', 'blue', 'blue', 'red', 'blue', 'red', 'red', 'blue', 'red', 'red', 'blue', 'red', 'blue', 'blue', 'blue', 'blue', 'red', 'red', 'red', 'red', 'blue', 'blue', 'blue', 'blue', 'red', 'blue', 'red', 'red', 'red', 'red', 'red', 'blue', 'blue', 'blue', 'blue', 'blue', 'red', 'blue', 'red', 'red', 'red', 'blue', 'blue', 'blue', 'blue', 'red']\n",
      "Sample 9: ['red', 'blue', 'blue', 'blue', 'blue', 'blue', 'red', 'red', 'red', 'red', 'red', 'blue', 'red', 'red', 'red', 'blue', 'blue', 'blue', 'red', 'red', 'red', 'red', 'blue', 'red', 'red', 'red', 'red', 'red', 'blue', 'blue', 'blue', 'red', 'red', 'blue', 'blue', 'red', 'blue', 'red', 'red', 'blue', 'red', 'blue', 'blue', 'red', 'blue', 'blue', 'red', 'blue', 'red', 'red', 'blue', 'red', 'red', 'blue', 'blue', 'blue', 'red', 'blue', 'blue', 'blue', 'red', 'red', 'red', 'red', 'red', 'blue', 'red', 'red', 'blue', 'red', 'red', 'red', 'blue', 'blue', 'blue', 'blue', 'blue', 'blue', 'red', 'blue', 'red', 'red', 'blue', 'blue', 'blue', 'red', 'blue', 'red', 'blue', 'blue', 'blue', 'blue', 'blue', 'red', 'blue', 'red', 'red', 'blue', 'blue', 'red']\n",
      "Sample 10: ['red', 'blue', 'red', 'red', 'blue', 'red', 'blue', 'red', 'blue', 'red', 'red', 'red', 'red', 'red', 'red', 'red', 'red', 'blue', 'blue', 'red', 'red', 'red', 'blue', 'red', 'blue', 'red', 'red', 'red', 'red', 'blue', 'blue', 'blue', 'blue', 'blue', 'blue', 'red', 'blue', 'red', 'blue', 'blue', 'blue', 'blue', 'blue', 'blue', 'blue', 'blue', 'blue', 'red', 'red', 'blue', 'blue', 'blue', 'red', 'red', 'blue', 'blue', 'red', 'red', 'blue', 'red', 'red', 'blue', 'red', 'blue', 'blue', 'blue', 'blue', 'blue', 'blue', 'red', 'blue', 'blue', 'blue', 'red', 'red', 'red', 'red', 'blue', 'blue', 'red', 'red', 'red', 'blue', 'red', 'red', 'blue', 'blue', 'red', 'red', 'blue', 'red', 'blue', 'red', 'blue', 'blue', 'red', 'blue', 'red', 'red', 'red']\n"
     ]
    }
   ],
   "source": [
    "\n",
    "\n",
    "def generate_coloring(N):\n",
    "    \"\"\"Generate a random 2-coloring for integers from 1 to N.\"\"\"\n",
    "    colors = ['blue', 'red']\n",
    "    return [random.choice(colors) for _ in range(N)]\n",
    "\n",
    "def generate_sample_dataset(num_samples, N, batch_size=1000):\n",
    "    \"\"\"Generate a sample dataset of colorings.\"\"\"\n",
    "    dataset = []\n",
    "    batches = num_samples // batch_size\n",
    "    remainder = num_samples % batch_size\n",
    "    for _ in range(batches):\n",
    "        batch = [generate_coloring(N) for _ in range(batch_size)]\n",
    "        dataset.extend(batch)\n",
    "    if remainder:\n",
    "        dataset.extend([generate_coloring(N) for _ in range(remainder)])\n",
    "    return dataset\n",
    "\n",
    "\n",
    "num_samples = 50000\n",
    "N = 100 # Maximum integer value to be colored\n",
    "sample_dataset = generate_sample_dataset(num_samples, N)\n",
    "\n",
    "# first 5 colorings in the dataset\n",
    "for i in range(10):\n",
    "    print(f\"Sample {i + 1}: {sample_dataset[i]}\")"
   ]
  },
  {
   "cell_type": "code",
   "execution_count": null,
   "id": "f1bb7448",
   "metadata": {},
   "outputs": [],
   "source": []
  },
  {
   "cell_type": "markdown",
   "id": "443ca22b",
   "metadata": {},
   "source": [
    "## Fractions of Monochromatic Arithmetic Triples"
   ]
  },
  {
   "cell_type": "code",
   "execution_count": 273,
   "id": "02241825",
   "metadata": {},
   "outputs": [
    {
     "name": "stdout",
     "output_type": "stream",
     "text": [
      "Sample 1: Fraction of monochromatic triplets: 0.24693877551020407\n",
      "Sample 2: Fraction of monochromatic triplets: 0.2951020408163265\n",
      "Sample 3: Fraction of monochromatic triplets: 0.26326530612244897\n",
      "Sample 4: Fraction of monochromatic triplets: 0.2510204081632653\n",
      "Sample 5: Fraction of monochromatic triplets: 0.24081632653061225\n"
     ]
    }
   ],
   "source": [
    "def monochromatic_triplets_fraction(colors):\n",
    "    \"\"\"Calculate the fraction of monochromatic arithmetic progressions of length 3.\"\"\"\n",
    "    n = len(colors)\n",
    "    monochromatic_ap = 0\n",
    "    total_ap = 0\n",
    "    \n",
    "    # Iterate over all possible triplets (i, j, k) that form an arithmetic progression\n",
    "    for i in range(n):\n",
    "        for j in range(i + 1, n):\n",
    "            diff = j - i\n",
    "            k = j + diff\n",
    "            if k < n:\n",
    "                #print(f\"Indices: ({i}, {j}, {k}) -> Colors: ({colors[i]}, {colors[j]}, {colors[k]})\")\n",
    "                total_ap += 1\n",
    "                if colors[i] == colors[j] == colors[k]:\n",
    "                    monochromatic_ap += 1\n",
    "    \n",
    "    # Calculate the fraction\n",
    "    if total_ap != 0:\n",
    "        fraction_monochromatic_ap = monochromatic_ap / total_ap\n",
    "    else:\n",
    "        fraction_monochromatic_ap = 0\n",
    "    \n",
    "    return fraction_monochromatic_ap\n",
    "\n",
    "# Applying the function on the sample dataset\n",
    "sample_monochromatic_triples_fractions = [monochromatic_triplets_fraction(colors) for colors in sample_dataset]\n",
    "\n",
    "# Print calculated fractions\n",
    "for i in range(5):\n",
    "    print(f\"Sample {i + 1}: Fraction of monochromatic triplets: {sample_monochromatic_triples_fractions[i]}\")\n"
   ]
  },
  {
   "cell_type": "code",
   "execution_count": 274,
   "id": "7df51530",
   "metadata": {},
   "outputs": [],
   "source": [
    "df1 = pd.DataFrame({'sample_monochromatic_triples_fractions':sample_monochromatic_triples_fractions})"
   ]
  },
  {
   "cell_type": "code",
   "execution_count": 275,
   "id": "25b7e16e",
   "metadata": {},
   "outputs": [
    {
     "data": {
      "text/html": [
       "<div>\n",
       "<style scoped>\n",
       "    .dataframe tbody tr th:only-of-type {\n",
       "        vertical-align: middle;\n",
       "    }\n",
       "\n",
       "    .dataframe tbody tr th {\n",
       "        vertical-align: top;\n",
       "    }\n",
       "\n",
       "    .dataframe thead th {\n",
       "        text-align: right;\n",
       "    }\n",
       "</style>\n",
       "<table border=\"1\" class=\"dataframe\">\n",
       "  <thead>\n",
       "    <tr style=\"text-align: right;\">\n",
       "      <th></th>\n",
       "      <th>sample_monochromatic_triples_fractions</th>\n",
       "    </tr>\n",
       "  </thead>\n",
       "  <tbody>\n",
       "    <tr>\n",
       "      <th>0</th>\n",
       "      <td>0.246939</td>\n",
       "    </tr>\n",
       "    <tr>\n",
       "      <th>1</th>\n",
       "      <td>0.295102</td>\n",
       "    </tr>\n",
       "    <tr>\n",
       "      <th>2</th>\n",
       "      <td>0.263265</td>\n",
       "    </tr>\n",
       "    <tr>\n",
       "      <th>3</th>\n",
       "      <td>0.251020</td>\n",
       "    </tr>\n",
       "    <tr>\n",
       "      <th>4</th>\n",
       "      <td>0.240816</td>\n",
       "    </tr>\n",
       "  </tbody>\n",
       "</table>\n",
       "</div>"
      ],
      "text/plain": [
       "   sample_monochromatic_triples_fractions\n",
       "0                                0.246939\n",
       "1                                0.295102\n",
       "2                                0.263265\n",
       "3                                0.251020\n",
       "4                                0.240816"
      ]
     },
     "execution_count": 275,
     "metadata": {},
     "output_type": "execute_result"
    }
   ],
   "source": [
    "df1.head(5)"
   ]
  },
  {
   "cell_type": "code",
   "execution_count": 276,
   "id": "2314965a",
   "metadata": {},
   "outputs": [
    {
     "data": {
      "text/html": [
       "<div>\n",
       "<style scoped>\n",
       "    .dataframe tbody tr th:only-of-type {\n",
       "        vertical-align: middle;\n",
       "    }\n",
       "\n",
       "    .dataframe tbody tr th {\n",
       "        vertical-align: top;\n",
       "    }\n",
       "\n",
       "    .dataframe thead th {\n",
       "        text-align: right;\n",
       "    }\n",
       "</style>\n",
       "<table border=\"1\" class=\"dataframe\">\n",
       "  <thead>\n",
       "    <tr style=\"text-align: right;\">\n",
       "      <th></th>\n",
       "      <th>sample_monochromatic_triples_fractions</th>\n",
       "    </tr>\n",
       "  </thead>\n",
       "  <tbody>\n",
       "    <tr>\n",
       "      <th>count</th>\n",
       "      <td>50000.000000</td>\n",
       "    </tr>\n",
       "    <tr>\n",
       "      <th>mean</th>\n",
       "      <td>0.250000</td>\n",
       "    </tr>\n",
       "    <tr>\n",
       "      <th>std</th>\n",
       "      <td>0.012648</td>\n",
       "    </tr>\n",
       "    <tr>\n",
       "      <th>min</th>\n",
       "      <td>0.228571</td>\n",
       "    </tr>\n",
       "    <tr>\n",
       "      <th>25%</th>\n",
       "      <td>0.241224</td>\n",
       "    </tr>\n",
       "    <tr>\n",
       "      <th>50%</th>\n",
       "      <td>0.246531</td>\n",
       "    </tr>\n",
       "    <tr>\n",
       "      <th>75%</th>\n",
       "      <td>0.254694</td>\n",
       "    </tr>\n",
       "    <tr>\n",
       "      <th>max</th>\n",
       "      <td>0.365306</td>\n",
       "    </tr>\n",
       "  </tbody>\n",
       "</table>\n",
       "</div>"
      ],
      "text/plain": [
       "       sample_monochromatic_triples_fractions\n",
       "count                            50000.000000\n",
       "mean                                 0.250000\n",
       "std                                  0.012648\n",
       "min                                  0.228571\n",
       "25%                                  0.241224\n",
       "50%                                  0.246531\n",
       "75%                                  0.254694\n",
       "max                                  0.365306"
      ]
     },
     "execution_count": 276,
     "metadata": {},
     "output_type": "execute_result"
    }
   ],
   "source": [
    "df1.describe()"
   ]
  },
  {
   "cell_type": "code",
   "execution_count": null,
   "id": "fd6e6738",
   "metadata": {},
   "outputs": [],
   "source": []
  },
  {
   "cell_type": "markdown",
   "id": "fa75eff3",
   "metadata": {},
   "source": [
    "## Fractions of Monochromatic quadruples (4,4)"
   ]
  },
  {
   "cell_type": "code",
   "execution_count": 277,
   "id": "34520acb",
   "metadata": {},
   "outputs": [
    {
     "name": "stdout",
     "output_type": "stream",
     "text": [
      "Sample 1: Fraction of monochromatic quadruples: 0.1150278293135436\n",
      "Sample 2: Fraction of monochromatic quadruples: 0.17068645640074212\n",
      "Sample 3: Fraction of monochromatic quadruples: 0.14347557204700062\n",
      "Sample 4: Fraction of monochromatic quadruples: 0.12863327149041434\n",
      "Sample 5: Fraction of monochromatic quadruples: 0.11935683364254793\n"
     ]
    }
   ],
   "source": [
    "def monochromatic_quadruples_fraction(colors):\n",
    "    \"\"\"Calculate the fraction of monochromatic arithmetic progressions of length 4.\"\"\"\n",
    "    n = len(colors)\n",
    "    monochromatic_ap = 0\n",
    "    total_ap = 0\n",
    "    \n",
    "    # Iterate over all possible quadruples (i, j, k, l) that form an arithmetic progression\n",
    "    for i in range(n):\n",
    "        for j in range(i + 1, n):\n",
    "            diff = j - i\n",
    "            k = j + diff\n",
    "            l = k + diff\n",
    "            if l < n:\n",
    "               # print(f\"Indices: ({i}, {j}, {k}, {l}) -> Colors: ({colors[i]}, {colors[j]}, {colors[k]}, {colors[l]})\")\n",
    "                total_ap += 1\n",
    "                if colors[i] == colors[j] == colors[k] == colors[l]:\n",
    "                    monochromatic_ap += 1\n",
    "    \n",
    "    # Calculate the fraction\n",
    "    if total_ap != 0:\n",
    "        fraction_monochromatic_ap = monochromatic_ap / total_ap\n",
    "    else:\n",
    "        fraction_monochromatic_ap = 0\n",
    "    \n",
    "    return fraction_monochromatic_ap\n",
    "\n",
    "# Applying the function on the sample dataset\n",
    "sample_monochromatic_quadruples_fractions = [monochromatic_quadruples_fraction(colors) for colors in sample_dataset]\n",
    "\n",
    "# Print calculated fractions\n",
    "for i in range(5):\n",
    "    print(f\"Sample {i + 1}: Fraction of monochromatic quadruples: {sample_monochromatic_quadruples_fractions[i]}\")\n"
   ]
  },
  {
   "cell_type": "markdown",
   "id": "cf7f5921",
   "metadata": {},
   "source": [
    "## Fractions of Monochromatic arithmetic quintuples (5,5)"
   ]
  },
  {
   "cell_type": "code",
   "execution_count": null,
   "id": "6a52bb5f",
   "metadata": {},
   "outputs": [],
   "source": []
  },
  {
   "cell_type": "code",
   "execution_count": 278,
   "id": "0c14a783",
   "metadata": {},
   "outputs": [
    {
     "name": "stdout",
     "output_type": "stream",
     "text": [
      "Sample 1: Fraction of monochromatic quintuples: 0.059166666666666666\n",
      "Sample 2: Fraction of monochromatic quintuples: 0.1\n",
      "Sample 3: Fraction of monochromatic quintuples: 0.06833333333333333\n",
      "Sample 4: Fraction of monochromatic quintuples: 0.06833333333333333\n",
      "Sample 5: Fraction of monochromatic quintuples: 0.058333333333333334\n"
     ]
    }
   ],
   "source": [
    "def monochromatic_quintuples_fraction(colors):\n",
    "    \"\"\"Calculate the fraction of monochromatic arithmetic progressions of length 5.\"\"\"\n",
    "    n = len(colors)\n",
    "    monochromatic_ap = 0\n",
    "    total_ap = 0\n",
    "    \n",
    "    # Iterate over all possible quintuples (i, j, k, l, m) that form an arithmetic progression\n",
    "    for i in range(n):\n",
    "        for j in range(i + 1, n):\n",
    "            diff = j - i\n",
    "            k = j + diff\n",
    "            l = k + diff\n",
    "            m = l + diff\n",
    "            if m < n:\n",
    "                #print(f\"Indices: ({i}, {j}, {k}, {l}, {m}) -> Colors: ({colors[i]}, {colors[j]}, {colors[k]}, {colors[l]}, {colors[m]})\")\n",
    "                total_ap += 1\n",
    "                if colors[i] == colors[j] == colors[k] == colors[l] == colors[m]:\n",
    "                    monochromatic_ap += 1\n",
    "    \n",
    "    # Calculate the fraction\n",
    "    if total_ap != 0:\n",
    "        fraction_monochromatic_ap = monochromatic_ap / total_ap\n",
    "    else:\n",
    "        fraction_monochromatic_ap = 0\n",
    "    \n",
    "    return fraction_monochromatic_ap\n",
    "\n",
    "# Applying the function on the sample dataset\n",
    "sample_monochromatic_quintuples_fractions = [monochromatic_quintuples_fraction(colors) for colors in sample_dataset]\n",
    "\n",
    "# Print calculated fractions\n",
    "for i in range(5):\n",
    "    print(f\"Sample {i + 1}: Fraction of monochromatic quintuples: {sample_monochromatic_quintuples_fractions[i]}\")\n"
   ]
  },
  {
   "cell_type": "markdown",
   "id": "73914e40",
   "metadata": {},
   "source": [
    "## Monochromatic Sextuple (6,6)"
   ]
  },
  {
   "cell_type": "code",
   "execution_count": 279,
   "id": "5f8180f6",
   "metadata": {},
   "outputs": [
    {
     "name": "stdout",
     "output_type": "stream",
     "text": [
      "Sample 1: Fraction of monochromatic sextuples: 0.031578947368421054\n",
      "Sample 2: Fraction of monochromatic sextuples: 0.05578947368421053\n",
      "Sample 3: Fraction of monochromatic sextuples: 0.03263157894736842\n",
      "Sample 4: Fraction of monochromatic sextuples: 0.029473684210526315\n",
      "Sample 5: Fraction of monochromatic sextuples: 0.029473684210526315\n"
     ]
    }
   ],
   "source": [
    "def monochromatic_sextuples_fraction(colors):\n",
    "    \"\"\"Calculate the fraction of monochromatic arithmetic progressions of length 6.\"\"\"\n",
    "    n = len(colors)\n",
    "    monochromatic_ap = 0\n",
    "    total_ap = 0\n",
    "    \n",
    "    # Iterate over all possible sextuples (i, j, k, l, m, n) that form an arithmetic progression\n",
    "    for i in range(n):\n",
    "        for j in range(i + 1, n):\n",
    "            diff = j - i\n",
    "            k = j + diff\n",
    "            l = k + diff\n",
    "            m = l + diff\n",
    "            o = m + diff\n",
    "            if o < n:\n",
    "                # print(f\"Indices: ({i}, {j}, {k}, {l}, {m}, {o}) -> Colors: ({colors[i]}, {colors[j]}, {colors[k]}, {colors[l]}, {colors[m]}, {colors[o]})\")\n",
    "                total_ap += 1\n",
    "                if colors[i] == colors[j] == colors[k] == colors[l] == colors[m] == colors[o]:\n",
    "                    monochromatic_ap += 1\n",
    "    \n",
    "    # Calculate the fraction\n",
    "    if total_ap != 0:\n",
    "        fraction_monochromatic_ap = monochromatic_ap / total_ap\n",
    "    else:\n",
    "        fraction_monochromatic_ap = 0\n",
    "    \n",
    "    return fraction_monochromatic_ap\n",
    "\n",
    "\n",
    "# Applying the function on the sample dataset\n",
    "sample_monochromatic_sextuples_fractions = [monochromatic_sextuples_fraction(colors) for colors in sample_dataset]\n",
    "\n",
    "# Print calculated fractions\n",
    "for i in range(5):\n",
    "    print(f\"Sample {i + 1}: Fraction of monochromatic sextuples: {sample_monochromatic_sextuples_fractions[i]}\")\n"
   ]
  },
  {
   "cell_type": "code",
   "execution_count": 280,
   "id": "3eed0a22",
   "metadata": {},
   "outputs": [
    {
     "data": {
      "text/plain": [
       "0.03131970526315789"
      ]
     },
     "execution_count": 280,
     "metadata": {},
     "output_type": "execute_result"
    }
   ],
   "source": [
    "np.mean(sample_monochromatic_sextuples_fractions)"
   ]
  },
  {
   "cell_type": "markdown",
   "id": "130e1e35",
   "metadata": {},
   "source": [
    "## Monochromatic septuples (7,7)"
   ]
  },
  {
   "cell_type": "code",
   "execution_count": null,
   "id": "2b720e0b",
   "metadata": {},
   "outputs": [],
   "source": []
  },
  {
   "cell_type": "code",
   "execution_count": 281,
   "id": "3cf82ce6",
   "metadata": {},
   "outputs": [
    {
     "name": "stdout",
     "output_type": "stream",
     "text": [
      "Sample 1: Fraction of monochromatic septuples: 0.021683673469387755\n",
      "Sample 2: Fraction of monochromatic septuples: 0.030612244897959183\n",
      "Sample 3: Fraction of monochromatic septuples: 0.017857142857142856\n",
      "Sample 4: Fraction of monochromatic septuples: 0.015306122448979591\n",
      "Sample 5: Fraction of monochromatic septuples: 0.01403061224489796\n"
     ]
    }
   ],
   "source": [
    "def monochromatic_septuples_fraction(colors):\n",
    "    \"\"\"Calculate the fraction of monochromatic arithmetic progressions of length 7.\"\"\"\n",
    "    n = len(colors)\n",
    "    monochromatic_ap = 0\n",
    "    total_ap = 0\n",
    "    \n",
    "    # Iterate over all possible septuples (i, j, k, l, m, o, p) that form an arithmetic progression\n",
    "    for i in range(n):\n",
    "        for j in range(i + 1, n):\n",
    "            diff = j - i\n",
    "            k = j + diff\n",
    "            l = k + diff\n",
    "            m = l + diff\n",
    "            o = m + diff\n",
    "            p = o + diff\n",
    "            if p < n:\n",
    "                total_ap += 1\n",
    "                if colors[i] == colors[j] == colors[k] == colors[l] == colors[m] == colors[o] == colors[p]:\n",
    "                    monochromatic_ap += 1\n",
    "    \n",
    "    # Calculate the fraction\n",
    "    if total_ap != 0:\n",
    "        fraction_monochromatic_ap = monochromatic_ap / total_ap\n",
    "    else:\n",
    "        fraction_monochromatic_ap = 0\n",
    "    \n",
    "    return fraction_monochromatic_ap\n",
    "\n",
    "# Applying the function on the sample dataset\n",
    "sample_monochromatic_septuples_fractions = [monochromatic_septuples_fraction(colors) for colors in sample_dataset]\n",
    "\n",
    "# Print calculated fractions\n",
    "for i in range(5):\n",
    "    print(f\"Sample {i + 1}: Fraction of monochromatic septuples: {sample_monochromatic_septuples_fractions[i]}\")\n"
   ]
  },
  {
   "cell_type": "code",
   "execution_count": 282,
   "id": "8a750015",
   "metadata": {},
   "outputs": [
    {
     "data": {
      "text/plain": [
       "0.015681147959183673"
      ]
     },
     "execution_count": 282,
     "metadata": {},
     "output_type": "execute_result"
    }
   ],
   "source": [
    "np.mean(sample_monochromatic_septuples_fractions)"
   ]
  },
  {
   "cell_type": "markdown",
   "id": "f5ca1e81",
   "metadata": {},
   "source": [
    "## Anti-Symmetry"
   ]
  },
  {
   "cell_type": "code",
   "execution_count": 283,
   "id": "83f450ed",
   "metadata": {},
   "outputs": [
    {
     "name": "stdout",
     "output_type": "stream",
     "text": [
      "Sample 1: 0.5200\n",
      "Sample 2: 0.5400\n",
      "Sample 3: 0.5200\n",
      "Sample 4: 0.4600\n",
      "Sample 5: 0.4800\n"
     ]
    }
   ],
   "source": [
    "def anti_symmetry(colors):\n",
    "    \"\"\"Calculate the fraction of opposite elements with different colors.\"\"\"\n",
    "    n = len(colors)\n",
    "    num_opposite_different_colors = 0\n",
    "    total_opposite_pairs = n // 2  # Total number of opposite pairs\n",
    "    \n",
    "    for i in range(total_opposite_pairs):\n",
    "        if colors[i] != colors[n - 1 - i]:  # Check if opposite elements have different colors\n",
    "            num_opposite_different_colors += 1\n",
    "    \n",
    "    # Calculate the fraction\n",
    "    if total_opposite_pairs != 0:\n",
    "        fraction_anti_symmetry = num_opposite_different_colors / total_opposite_pairs\n",
    "    else:\n",
    "        fraction_anti_symmetry = 0\n",
    "    \n",
    "    return fraction_anti_symmetry\n",
    "\n",
    "\n",
    "# Applying the function on the sample dataset\n",
    "sample_anti_symmetry = [anti_symmetry(colors) for colors in sample_dataset]\n",
    "\n",
    "# Print first 5 calculated fractions\n",
    "for i in range(min(5, len(sample_anti_symmetry))):\n",
    "    print(f\"Sample {i + 1}: {sample_anti_symmetry[i]:.4f}\")\n"
   ]
  },
  {
   "cell_type": "markdown",
   "id": "0ae3fd8d",
   "metadata": {},
   "source": [
    "## Proportions of more popular color"
   ]
  },
  {
   "cell_type": "code",
   "execution_count": 284,
   "id": "acdbcea3",
   "metadata": {},
   "outputs": [
    {
     "name": "stdout",
     "output_type": "stream",
     "text": [
      "Sample 1: Proportion of the more popular color: 0.52, The more popular color is: red\n",
      "Sample 2: Proportion of the more popular color: 0.63, The more popular color is: blue\n",
      "Sample 3: Proportion of the more popular color: 0.6, The more popular color is: red\n",
      "Sample 4: Proportion of the more popular color: 0.53, The more popular color is: red\n",
      "Sample 5: Proportion of the more popular color: 0.52, The more popular color is: blue\n"
     ]
    }
   ],
   "source": [
    "\n",
    "def calculate_proportion_more_popular_color(colors):\n",
    "    \"\"\"Calculate the proportion of the more popular color.\"\"\"\n",
    "    # Count occurrences of each color\n",
    "    counts = {color: colors.count(color) for color in set(colors)}\n",
    "    \n",
    "    # Determine the more popular color\n",
    "    more_popular_color = max(counts, key=counts.get)\n",
    "    \n",
    "    # Calculate proportion of the more popular color\n",
    "    proportion_more_popular_color = counts[more_popular_color] / len(colors)\n",
    "    \n",
    "    return proportion_more_popular_color, more_popular_color\n",
    "\n",
    "# Applying the function on the sample dataset\n",
    "sample_proportions = [calculate_proportion_more_popular_color(colors) for colors in sample_dataset]\n",
    "\n",
    "# first 5 calculated proportions and corresponding colors\n",
    "for i in range(5):\n",
    "    proportion, color = sample_proportions[i]\n",
    "    print(f\"Sample {i + 1}: Proportion of the more popular color: {proportion}, The more popular color is: {color}\")"
   ]
  },
  {
   "cell_type": "code",
   "execution_count": 285,
   "id": "36ab9b54",
   "metadata": {},
   "outputs": [
    {
     "name": "stdout",
     "output_type": "stream",
     "text": [
      "Sample 1: Proportion of the more popular color: 0.52\n",
      "Sample 2: Proportion of the more popular color: 0.63\n",
      "Sample 3: Proportion of the more popular color: 0.6\n",
      "Sample 4: Proportion of the more popular color: 0.53\n",
      "Sample 5: Proportion of the more popular color: 0.52\n"
     ]
    }
   ],
   "source": [
    "# Extracting only the proportions from the sample_proportions\n",
    "sample_popular_proportions_only = [proportions for proportions, _ in sample_proportions]\n",
    "\n",
    "# first 5 calculated proportions\n",
    "for i in range(5):\n",
    "    print(f\"Sample {i + 1}: Proportion of the more popular color: {sample_popular_proportions_only[i]}\")"
   ]
  },
  {
   "cell_type": "markdown",
   "id": "070c7a7c",
   "metadata": {},
   "source": [
    "## Transition Frequency"
   ]
  },
  {
   "cell_type": "code",
   "execution_count": 286,
   "id": "1ad80952",
   "metadata": {},
   "outputs": [],
   "source": [
    "def calculate_color_transition_frequency(colors):\n",
    "    \"\"\"Calculate the frequency of transitions between different colors.\"\"\"\n",
    "    transitions = 0\n",
    "    for i in range(1, len(colors)):\n",
    "        if colors[i] != colors[i - 1]:\n",
    "            transitions += 1\n",
    "    return transitions/200"
   ]
  },
  {
   "cell_type": "code",
   "execution_count": 287,
   "id": "7ffae4b3",
   "metadata": {},
   "outputs": [
    {
     "name": "stdout",
     "output_type": "stream",
     "text": [
      "Sample 1: Transition frequency: 0.24\n",
      "Sample 2: Transition frequency: 0.205\n",
      "Sample 3: Transition frequency: 0.175\n",
      "Sample 4: Transition frequency: 0.185\n",
      "Sample 5: Transition frequency: 0.23\n"
     ]
    }
   ],
   "source": [
    "# Applying the function on the sample dataset\n",
    "color_transition = [calculate_color_transition_frequency(colors) for colors in sample_dataset]\n",
    "\n",
    "# first 5 calculated transition frequencies\n",
    "for i in range(5):\n",
    "    print(f\"Sample {i + 1}: Transition frequency: {color_transition[i]}\")\n"
   ]
  },
  {
   "cell_type": "markdown",
   "id": "3869beb2",
   "metadata": {},
   "source": [
    "## Blockiness: Longest block"
   ]
  },
  {
   "cell_type": "code",
   "execution_count": 288,
   "id": "c9ede3b2",
   "metadata": {},
   "outputs": [
    {
     "name": "stdout",
     "output_type": "stream",
     "text": [
      "Sample 1: Blockiness: 0.11\n",
      "Sample 2: Blockiness: 0.07\n",
      "Sample 3: Blockiness: 0.08\n",
      "Sample 4: Blockiness: 0.07\n",
      "Sample 5: Blockiness: 0.09\n"
     ]
    }
   ],
   "source": [
    "def blockiness(colors):\n",
    "    \"\"\"Calculate the blockiness of the coloring.\"\"\"\n",
    "    block_count = 0  # Initialize block count\n",
    "    max_block_length = 0  # Initialize maximum block length\n",
    "    current_block_length = 0  # Initialize current block length\n",
    "    prev_color = None  # Initialize previous color tracker\n",
    "\n",
    "    for color in colors:\n",
    "        if color == prev_color:\n",
    "            current_block_length += 1  # Increment current block length if the same color continues\n",
    "        else:\n",
    "            if current_block_length > max_block_length:\n",
    "                max_block_length = current_block_length  # Update maximum block length if current block is longer\n",
    "            current_block_length = 1  # Reset current block length for a new color block\n",
    "            block_count += 1  # Increment block count\n",
    "            prev_color = color  # Update previous color to current color\n",
    "\n",
    "    # Check the last block\n",
    "    if current_block_length > max_block_length:\n",
    "        max_block_length = current_block_length  # Update maximum block length if the last block is the longest\n",
    "\n",
    "    # Calculate blockiness as the ratio of the longest block length to the total number of colors\n",
    "    return max_block_length / len(colors)\n",
    "\n",
    "# Calculate blockiness for each coloring sequence in the sample dataset\n",
    "blockiness_values = [blockiness(colors) for colors in sample_dataset]\n",
    "\n",
    "# Print the first 5 blockiness values\n",
    "for i in range(5):\n",
    "    print(f\"Sample {i + 1}: Blockiness: {blockiness_values[i]}\")\n"
   ]
  },
  {
   "cell_type": "markdown",
   "id": "e8bfab9d",
   "metadata": {},
   "source": [
    "## Proportions of Red and Blue"
   ]
  },
  {
   "cell_type": "code",
   "execution_count": 289,
   "id": "56a9fe05",
   "metadata": {},
   "outputs": [
    {
     "name": "stdout",
     "output_type": "stream",
     "text": [
      "Proportion of Blue:\n",
      "Sample 1: 0.48\n",
      "Sample 2: 0.63\n",
      "Sample 3: 0.4\n",
      "Sample 4: 0.47\n",
      "Sample 5: 0.52\n",
      "\n",
      "Proportion of Red:\n",
      "Sample 1: 0.52\n",
      "Sample 2: 0.37\n",
      "Sample 3: 0.6\n",
      "Sample 4: 0.53\n",
      "Sample 5: 0.48\n"
     ]
    }
   ],
   "source": [
    "def proportion_of_color(colors, color):\n",
    "    \"\"\"Calculate the proportion of a specific color in the coloring.\"\"\"\n",
    "    count = colors.count(color)\n",
    "    total = len(colors)\n",
    "    return count / total if total > 0 else 0\n",
    "\n",
    "def proportion_of_blue(colors):\n",
    "    return proportion_of_color(colors, 'blue')\n",
    "\n",
    "def proportion_of_red(colors):\n",
    "    return proportion_of_color(colors, 'red')\n",
    "\n",
    "# Applying the functions to the sample dataset\n",
    "proportion_blue = [proportion_of_blue(colors) for colors in sample_dataset]\n",
    "proportion_red = [proportion_of_red(colors) for colors in sample_dataset]\n",
    "\n",
    "# Print first 5 calculated proportions for each color\n",
    "print(\"Proportion of Blue:\")\n",
    "for i in range(5):\n",
    "    print(f\"Sample {i + 1}: {proportion_blue[i]}\")\n",
    "\n",
    "print(\"\\nProportion of Red:\")\n",
    "for i in range(5):\n",
    "    print(f\"Sample {i + 1}: {proportion_red[i]}\")"
   ]
  },
  {
   "cell_type": "markdown",
   "id": "2136123b",
   "metadata": {},
   "source": [
    "## Length Training Data"
   ]
  },
  {
   "cell_type": "code",
   "execution_count": 290,
   "id": "19db500e",
   "metadata": {},
   "outputs": [],
   "source": [
    "#length train\n",
    "length = [3] * 100000 "
   ]
  },
  {
   "cell_type": "markdown",
   "id": "4098539a",
   "metadata": {},
   "source": [
    "## Length Test Set"
   ]
  },
  {
   "cell_type": "code",
   "execution_count": 291,
   "id": "beb859d9",
   "metadata": {},
   "outputs": [],
   "source": [
    "# # length_test\n",
    "# length_test = [7]*50000"
   ]
  },
  {
   "cell_type": "markdown",
   "id": "5adca00b",
   "metadata": {},
   "source": [
    "## DataFrame"
   ]
  },
  {
   "cell_type": "code",
   "execution_count": 292,
   "id": "13c18b8b",
   "metadata": {},
   "outputs": [],
   "source": [
    "test_data7 = pd.DataFrame(\n",
    "{\n",
    "'anti_symmetry':sample_anti_symmetry,\n",
    "'proportion_blue':proportion_blue,\n",
    "'proportion_red':proportion_red,\n",
    "'blockiness_values':blockiness_values,\n",
    "'transition_frequency':color_transition,\n",
    "'popular_proportions':sample_popular_proportions_only,\n",
    "'length': [7] * 50000 \n",
    "}\n",
    ")"
   ]
  },
  {
   "cell_type": "markdown",
   "id": "c2f55b8f",
   "metadata": {},
   "source": [
    "## Squared distances Weighting"
   ]
  },
  {
   "cell_type": "code",
   "execution_count": 293,
   "id": "78fb418b",
   "metadata": {},
   "outputs": [],
   "source": [
    "# Calculate the mean for each column\n",
    "means = test_data7[['transition_frequency', 'anti_symmetry']].mean()\n",
    "\n",
    "# Calculate the deviation from the mean\n",
    "test_data7['transition_frequency_deviation'] = test_data7['transition_frequency'] - means['transition_frequency']\n",
    "test_data7['anti_symmetry_deviation'] = test_data7['anti_symmetry'] - means['anti_symmetry']\n"
   ]
  },
  {
   "cell_type": "code",
   "execution_count": 294,
   "id": "2d5d8b2a",
   "metadata": {},
   "outputs": [
    {
     "data": {
      "text/plain": [
       "(50000, 9)"
      ]
     },
     "execution_count": 294,
     "metadata": {},
     "output_type": "execute_result"
    }
   ],
   "source": [
    "test_data7.shape"
   ]
  },
  {
   "cell_type": "code",
   "execution_count": 295,
   "id": "3810ac10",
   "metadata": {},
   "outputs": [],
   "source": [
    "fractions = pd.DataFrame({'fractions':sample_monochromatic_septuples_fractions})"
   ]
  },
  {
   "cell_type": "code",
   "execution_count": 300,
   "id": "504c4340",
   "metadata": {},
   "outputs": [
    {
     "data": {
      "text/plain": [
       "fractions    0.015681\n",
       "dtype: float64"
      ]
     },
     "execution_count": 300,
     "metadata": {},
     "output_type": "execute_result"
    }
   ],
   "source": [
    "fractions.mean()"
   ]
  },
  {
   "cell_type": "code",
   "execution_count": 301,
   "id": "fc43f30b",
   "metadata": {},
   "outputs": [
    {
     "data": {
      "text/plain": [
       "0.015625"
      ]
     },
     "execution_count": 301,
     "metadata": {},
     "output_type": "execute_result"
    }
   ],
   "source": [
    "1/(2**(7-1))"
   ]
  },
  {
   "cell_type": "markdown",
   "id": "e5949c4d",
   "metadata": {},
   "source": [
    "## Combined training data"
   ]
  },
  {
   "cell_type": "code",
   "execution_count": 296,
   "id": "f73cac40",
   "metadata": {},
   "outputs": [],
   "source": [
    "test_data7 = pd.concat([test_data7, fractions], axis=1)"
   ]
  },
  {
   "cell_type": "code",
   "execution_count": 297,
   "id": "9e1c39d4",
   "metadata": {},
   "outputs": [
    {
     "data": {
      "text/html": [
       "<div>\n",
       "<style scoped>\n",
       "    .dataframe tbody tr th:only-of-type {\n",
       "        vertical-align: middle;\n",
       "    }\n",
       "\n",
       "    .dataframe tbody tr th {\n",
       "        vertical-align: top;\n",
       "    }\n",
       "\n",
       "    .dataframe thead th {\n",
       "        text-align: right;\n",
       "    }\n",
       "</style>\n",
       "<table border=\"1\" class=\"dataframe\">\n",
       "  <thead>\n",
       "    <tr style=\"text-align: right;\">\n",
       "      <th></th>\n",
       "      <th>anti_symmetry</th>\n",
       "      <th>proportion_blue</th>\n",
       "      <th>proportion_red</th>\n",
       "      <th>blockiness_values</th>\n",
       "      <th>transition_frequency</th>\n",
       "      <th>popular_proportions</th>\n",
       "      <th>length</th>\n",
       "      <th>transition_frequency_deviation</th>\n",
       "      <th>anti_symmetry_deviation</th>\n",
       "      <th>fractions</th>\n",
       "    </tr>\n",
       "  </thead>\n",
       "  <tbody>\n",
       "    <tr>\n",
       "      <th>0</th>\n",
       "      <td>0.52</td>\n",
       "      <td>0.48</td>\n",
       "      <td>0.52</td>\n",
       "      <td>0.11</td>\n",
       "      <td>0.240</td>\n",
       "      <td>0.52</td>\n",
       "      <td>7</td>\n",
       "      <td>-0.007404</td>\n",
       "      <td>0.02041</td>\n",
       "      <td>0.021684</td>\n",
       "    </tr>\n",
       "    <tr>\n",
       "      <th>1</th>\n",
       "      <td>0.54</td>\n",
       "      <td>0.63</td>\n",
       "      <td>0.37</td>\n",
       "      <td>0.07</td>\n",
       "      <td>0.205</td>\n",
       "      <td>0.63</td>\n",
       "      <td>7</td>\n",
       "      <td>-0.042404</td>\n",
       "      <td>0.04041</td>\n",
       "      <td>0.030612</td>\n",
       "    </tr>\n",
       "    <tr>\n",
       "      <th>2</th>\n",
       "      <td>0.52</td>\n",
       "      <td>0.40</td>\n",
       "      <td>0.60</td>\n",
       "      <td>0.08</td>\n",
       "      <td>0.175</td>\n",
       "      <td>0.60</td>\n",
       "      <td>7</td>\n",
       "      <td>-0.072404</td>\n",
       "      <td>0.02041</td>\n",
       "      <td>0.017857</td>\n",
       "    </tr>\n",
       "    <tr>\n",
       "      <th>3</th>\n",
       "      <td>0.46</td>\n",
       "      <td>0.47</td>\n",
       "      <td>0.53</td>\n",
       "      <td>0.07</td>\n",
       "      <td>0.185</td>\n",
       "      <td>0.53</td>\n",
       "      <td>7</td>\n",
       "      <td>-0.062404</td>\n",
       "      <td>-0.03959</td>\n",
       "      <td>0.015306</td>\n",
       "    </tr>\n",
       "    <tr>\n",
       "      <th>4</th>\n",
       "      <td>0.48</td>\n",
       "      <td>0.52</td>\n",
       "      <td>0.48</td>\n",
       "      <td>0.09</td>\n",
       "      <td>0.230</td>\n",
       "      <td>0.52</td>\n",
       "      <td>7</td>\n",
       "      <td>-0.017404</td>\n",
       "      <td>-0.01959</td>\n",
       "      <td>0.014031</td>\n",
       "    </tr>\n",
       "  </tbody>\n",
       "</table>\n",
       "</div>"
      ],
      "text/plain": [
       "   anti_symmetry  proportion_blue  proportion_red  blockiness_values  \\\n",
       "0           0.52             0.48            0.52               0.11   \n",
       "1           0.54             0.63            0.37               0.07   \n",
       "2           0.52             0.40            0.60               0.08   \n",
       "3           0.46             0.47            0.53               0.07   \n",
       "4           0.48             0.52            0.48               0.09   \n",
       "\n",
       "   transition_frequency  popular_proportions  length  \\\n",
       "0                 0.240                 0.52       7   \n",
       "1                 0.205                 0.63       7   \n",
       "2                 0.175                 0.60       7   \n",
       "3                 0.185                 0.53       7   \n",
       "4                 0.230                 0.52       7   \n",
       "\n",
       "   transition_frequency_deviation  anti_symmetry_deviation  fractions  \n",
       "0                       -0.007404                  0.02041   0.021684  \n",
       "1                       -0.042404                  0.04041   0.030612  \n",
       "2                       -0.072404                  0.02041   0.017857  \n",
       "3                       -0.062404                 -0.03959   0.015306  \n",
       "4                       -0.017404                 -0.01959   0.014031  "
      ]
     },
     "execution_count": 297,
     "metadata": {},
     "output_type": "execute_result"
    }
   ],
   "source": [
    "test_data7.head()"
   ]
  },
  {
   "cell_type": "code",
   "execution_count": 298,
   "id": "9bb5da55",
   "metadata": {},
   "outputs": [],
   "source": [
    "test_data7.to_csv('test_data7.csv')"
   ]
  },
  {
   "cell_type": "markdown",
   "id": "5d9c1503",
   "metadata": {},
   "source": [
    "## Monochromatic Arithmetic Progressions Visual"
   ]
  },
  {
   "cell_type": "code",
   "execution_count": 14,
   "id": "9a0ebebc",
   "metadata": {},
   "outputs": [
    {
     "data": {
      "image/png": "[encoded data removed]",
      "text/plain": [
       "<Figure size 1200x600 with 1 Axes>"
      ]
     },
     "metadata": {},
     "output_type": "display_data"
    }
   ],
   "source": [
    "n = 15  \n",
    "colors = ['red', 'blue']  # Possible colors\n",
    "\n",
    "# Randomly assign colors to integers with balanced probability for red and blue\n",
    "color_assignment = {x: random.choice(colors) for x in range(1, n + 1)}\n",
    "\n",
    "# Find all monochromatic arithmetic triples\n",
    "def find_monochromatic_triples(color_assignment):\n",
    "    triples = []\n",
    "    for a in range(1, n + 1):\n",
    "        for d in range(1, (n - a) // 2 + 1):\n",
    "            b = a + d\n",
    "            c = b + d\n",
    "            if c > n:\n",
    "                break\n",
    "            if color_assignment[a] == color_assignment[b] == color_assignment[c]:\n",
    "                triples.append((a, b, c, color_assignment[a]))\n",
    "    return triples\n",
    "\n",
    "# Find monochromatic triples\n",
    "triples = find_monochromatic_triples(color_assignment)\n",
    "\n",
    "# Plot the number line\n",
    "fig, ax = plt.subplots(figsize=(12, 6))\n",
    "\n",
    "# Draw the number line\n",
    "ax.hlines(0, 0, n + 1, colors='black', lw=2)\n",
    "\n",
    "# Plot the integers and their colors \n",
    "for x in range(1, n + 1):\n",
    "    color = color_assignment[x]\n",
    "    ax.plot(x, 0, 'o', markersize=6, color=color)\n",
    "    ax.text(x, -0.2, str(x), ha='center', va='top', fontsize=10)\n",
    "\n",
    "# Adjust y-positions dynamically\n",
    "y_positions = {}\n",
    "y_offset = 0.3  \n",
    "for a, b, c, color in triples:\n",
    "    # Determine y-position for the label to avoid overlap\n",
    "    y_pos = y_offset\n",
    "    while any(abs(y_pos - prev_y) < 0.4 for prev_y in y_positions.values()):\n",
    "        y_pos += 0.5  # Increase space between lines for more room\n",
    "    y_positions[(a, b, c)] = y_pos\n",
    "    \n",
    "    # Draw a line connecting the triple\n",
    "    ax.plot([a, b, c], [y_pos, y_pos, y_pos], color=color, lw=2)\n",
    "    \n",
    "    # Highlight the points\n",
    "    for x in [a, b, c]:\n",
    "        ax.plot(x, y_pos, 'o', markersize=8, color=color, fillstyle='none', markeredgewidth=2)\n",
    "\n",
    "    # Add a label above the timeline\n",
    "    ax.text(b, y_pos + 0.1, f'{{{a}, {b}, {c}}}', ha='center', va='bottom', fontsize=10, color=color)\n",
    "    \n",
    "    # Increase y_offset for next set\n",
    "    y_offset = y_pos + 0.6  \n",
    "\n",
    "ax.set_title(\"Monochromatic Arithmetic Triples\", fontsize=14, fontweight='bold')\n",
    "ax.set_xlabel(\"Integer Value\", fontsize=12)\n",
    "ax.set_ylabel(\"Triples and their Corresponding Colors\", fontsize=12)\n",
    "\n",
    "ax.set_ylim(-0.5, max(y_positions.values()) + 0.5 if y_positions else 0.5)\n",
    "ax.axis('off')\n",
    "\n",
    "# Show the plot\n",
    "plt.tight_layout()\n",
    "plt.show()\n"
   ]
  },
  {
   "cell_type": "code",
   "execution_count": null,
   "id": "6f6d418c",
   "metadata": {},
   "outputs": [],
   "source": []
  }
 ],
 "metadata": {
  "kernelspec": {
   "display_name": "base",
   "language": "python",
   "name": "python3"
  },
  "language_info": {
   "codemirror_mode": {
    "name": "ipython",
    "version": 3
   },
   "file_extension": ".py",
   "mimetype": "text/x-python",
   "name": "python",
   "nbconvert_exporter": "python",
   "pygments_lexer": "ipython3",
   "version": "3.11.5"
  }
 },
 "nbformat": 4,
 "nbformat_minor": 5
}
